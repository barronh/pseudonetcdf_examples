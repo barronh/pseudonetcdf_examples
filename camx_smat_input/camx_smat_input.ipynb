{
 "cells": [
  {
   "cell_type": "markdown",
   "metadata": {
    "colab_type": "text",
    "id": "IDcHFGsfmQ-4"
   },
   "source": [
    "<a href=\"https://colab.research.google.com/github/barronh/pseudonetcdf_examples/blob/main/camx_smat_input/camx_smat_input.ipynb\" target=\"_parent\"><img src=\"https://colab.research.google.com/assets/colab-badge.svg\" alt=\"Open In Colab\"/></a>"
   ]
  },
  {
   "cell_type": "markdown",
   "metadata": {
    "colab_type": "text",
    "id": "TxSyrsP5mQ-_"
   },
   "source": [
    "# Prepare SMAT Inputs from CAMX\n",
    "\n",
    "    author: Barron H. Henderson\n",
    "    date: 2020-08-24\n",
    "    PseudoNetCDF version: latest"
   ]
  },
  {
   "cell_type": "markdown",
   "metadata": {
    "colab_type": "text",
    "id": "tjtsfElOmQ_D"
   },
   "source": [
    "# Overview\n",
    "\n",
    "This example shows how make SMAT inputs from CAMx output (avrg) files. The inputs are hourly gridded. They are converted to maximum daily 8-hour averages and then subset for 3x3 arrays around each monitor. The results are put in the SMAT-CE model input format."
   ]
  },
  {
   "cell_type": "markdown",
   "metadata": {
    "colab_type": "text",
    "id": "nmwwKJ1fh0_l"
   },
   "source": [
    "# Install  Libraries\n",
    "\n",
    "* Use `apt-get` to install `libgeos-dev` for projection and transformations.\n",
    "* Use `pip` to install `basemap`  for mapping.\n",
    "* Use `pip` to install `PseudoNetCDF` for many file format support.\n",
    "* Can take a couple minutes"
   ]
  },
  {
   "cell_type": "code",
   "execution_count": null,
   "metadata": {
    "colab": {
     "base_uri": "https://localhost:8080/",
     "height": 51
    },
    "colab_type": "code",
    "id": "9YWytCaU-dqk",
    "outputId": "1407d6aa-b08b-4adb-a6b8-0eabb78b30a1"
   },
   "outputs": [],
   "source": [
    "!apt-get -qq install libgeos-dev\n",
    "!pip install -q https://github.com/matplotlib/basemap/archive/master.zip\n",
    "!pip install -q https://github.com/barronh/pseudonetcdf/archive/master.zip"
   ]
  },
  {
   "cell_type": "markdown",
   "metadata": {
    "colab_type": "text",
    "id": "UfrV12xomQ_c"
   },
   "source": [
    "# Import Libraries\n",
    "\n",
    "* `PseudoNetCDF` for camx file reading\n",
    "* `pandas` for csv writing\n",
    "* `numpy` for numeric processing\n",
    "* `os` for path manipulation\n",
    "* `urlretrieve` to download obs\n"
   ]
  },
  {
   "cell_type": "code",
   "execution_count": 1,
   "metadata": {
    "colab": {},
    "colab_type": "code",
    "id": "-NpmtK8QmQ_f"
   },
   "outputs": [],
   "source": [
    "import PseudoNetCDF as pnc\n",
    "import pandas as pd\n",
    "import numpy as np\n",
    "import os\n",
    "from urllib.request import urlretrieve"
   ]
  },
  {
   "cell_type": "markdown",
   "metadata": {},
   "source": [
    "# Downloading the CAMx v7 Test Case\n",
    "\n",
    "* If not downloaded, download it.\n",
    "* If not extracted, extract two model output days as netcdf."
   ]
  },
  {
   "cell_type": "code",
   "execution_count": 2,
   "metadata": {
    "colab": {
     "base_uri": "https://localhost:8080/",
     "height": 204
    },
    "colab_type": "code",
    "id": "TQuMLLOXrep0",
    "outputId": "ae6620a8-3308-43c2-c984-724e731e731f"
   },
   "outputs": [],
   "source": [
    "camxtarpath = 'CAMx7-00-test_run-outputs-GFortran_compiler-200531.tgz'\n",
    "if not os.path.exists(camxtarpath):\n",
    "    urlretrieve(f'http://www.camx.com/getmedia/a0970e8f-e38e-4647-a062-d394ac1eac2e/{camxtarpath}')"
   ]
  },
  {
   "cell_type": "code",
   "execution_count": 3,
   "metadata": {
    "colab": {},
    "colab_type": "code",
    "id": "hb-jyFmdri50"
   },
   "outputs": [],
   "source": [
    "camxoutpaths = [\n",
    "    './outputs/CAMx.v7.00.36.12.noMPI.20160610.avrg.grd02.nc',\n",
    "    './outputs/CAMx.v7.00.36.12.noMPI.20160611.avrg.grd02.nc'\n",
    "]\n",
    "for camxoutpath in camxoutpaths:\n",
    "    if not os.path.exists(camxoutpath):\n",
    "        !tar xzf {camxtarpath} {camxoutpath}"
   ]
  },
  {
   "cell_type": "markdown",
   "metadata": {},
   "source": [
    "# Download Observations\n",
    "\n",
    "* Used for monitor locations\n",
    "* If not donwloaded, download.\n",
    "* Load latitude and longitude"
   ]
  },
  {
   "cell_type": "code",
   "execution_count": 4,
   "metadata": {
    "colab": {},
    "colab_type": "code",
    "id": "D0jbthpZnGmS"
   },
   "outputs": [],
   "source": [
    "obspath = '8hour_44201_2016.zip'\n",
    "downloadroot = 'https://aqs.epa.gov/aqsweb/airdata/'\n",
    "if not os.path.exists(obspath):\n",
    "  urlretrieve(downloadroot + obspath, obspath)"
   ]
  },
  {
   "cell_type": "code",
   "execution_count": 5,
   "metadata": {
    "colab": {},
    "colab_type": "code",
    "id": "6-q_D5XFnJ9j"
   },
   "outputs": [],
   "source": [
    "def keyclean(k):\n",
    "    k = k.replace(' ', '')\n",
    "    k = k.replace('1st', 'First')\n",
    "    k = k.replace('Latitude', 'LAT')\n",
    "    k = k.replace('Longitude', 'LONG')\n",
    "    k = k.replace('DateLocal', 'Date')\n",
    "    return k\n",
    "\n",
    "obsdf = pd.read_csv(obspath, usecols=['Latitude', 'Longitude']).rename(columns=keyclean)"
   ]
  },
  {
   "cell_type": "markdown",
   "metadata": {},
   "source": [
    "# Maximum Daily Average 8-hour\n",
    "\n",
    "* Define a mda8 function\n",
    "* Currently not providing time zone support. -- Just an example."
   ]
  },
  {
   "cell_type": "code",
   "execution_count": 6,
   "metadata": {
    "colab": {},
    "colab_type": "code",
    "id": "Et1wmJx3tCtR"
   },
   "outputs": [],
   "source": [
    "def mda8(x):\n",
    "  \"\"\"\n",
    "  Calculate maximum daily 8-hour average.\n",
    "\n",
    "  \n",
    "  Arguments\n",
    "  ---------\n",
    "  x : array-like\n",
    "    vector of time values\n",
    "  \n",
    "  Returns\n",
    "  -------\n",
    "    Daily maximum of the 8-hour average\n",
    "  \n",
    "  Notes\n",
    "  -----\n",
    "  No tz support yet\n",
    "  \"\"\"\n",
    "  return np.convolve(np.ones(8)/8., x, mode='full')[7:].reshape(-1, 24)[:, :17].max(1)"
   ]
  },
  {
   "cell_type": "markdown",
   "metadata": {},
   "source": [
    "# Process CAMx Files"
   ]
  },
  {
   "cell_type": "code",
   "execution_count": 7,
   "metadata": {
    "colab": {
     "base_uri": "https://localhost:8080/",
     "height": 85
    },
    "colab_type": "code",
    "id": "nweQT75WnLgK",
    "outputId": "b3809326-5258-4de7-b5ce-ce54e6defdc9"
   },
   "outputs": [
    {
     "name": "stderr",
     "output_type": "stream",
     "text": [
      "**PNC:/work/ROMO/anaconda_envs/basic38/lib/python3.8/site-packages/PseudoNetCDF/pncwarn.py:24:UserWarning:\n",
      "  Got duplicate variables for X without stackable dimension; first value retained\n",
      "**PNC:/work/ROMO/anaconda_envs/basic38/lib/python3.8/site-packages/PseudoNetCDF/pncwarn.py:24:UserWarning:\n",
      "  Got duplicate variables for Y without stackable dimension; first value retained\n",
      "**PNC:/work/ROMO/anaconda_envs/basic38/lib/python3.8/site-packages/PseudoNetCDF/pncwarn.py:24:UserWarning:\n",
      "  New time is unstructured\n"
     ]
    }
   ],
   "source": [
    "camxf = pnc.pncmfopen(\n",
    "    camxoutpaths, format='ioapi', stackdim='TSTEP'\n",
    ").subset(['O3']).slice(\n",
    "    ROW=slice(1, -1), # Nested inputs have invalid zeros in the edge\n",
    "    COL=slice(1, -1)  # This removes the edges\n",
    ")\n",
    "camxmda8f = camxf.apply(TSTEP=mda8)\n",
    "\n",
    "# Extending data to be a quarter\n",
    "camxmda8f = camxmda8f.slice(TSTEP=np.arange(2, dtype='i').repeat(45, 0))\n",
    "camxmda8f.updatetflag(startdate=camxf.getTimes()[0], overwrite=True, tstep=240000)\n",
    "\n",
    "o3mda8 = camxmda8f.variables['O3']"
   ]
  },
  {
   "cell_type": "code",
   "execution_count": 8,
   "metadata": {
    "colab": {
     "base_uri": "https://localhost:8080/",
     "height": 51
    },
    "colab_type": "code",
    "id": "YrzhHxWj1aPx",
    "outputId": "690569df-91db-49f0-8fd0-6a8ec4695fa7"
   },
   "outputs": [],
   "source": [
    "times = pd.to_datetime([t.replace(tzinfo=None) for t in camxmda8f.getTimes()])\n",
    "I, J = np.meshgrid(np.arange(camxmda8f.NCOLS), np.arange(camxmda8f.NCOLS))\n",
    "lon, lat = camxmda8f.ij2ll(I, J)\n",
    "ID = I * 1000 + J + 1001"
   ]
  },
  {
   "cell_type": "code",
   "execution_count": 9,
   "metadata": {
    "colab": {
     "base_uri": "https://localhost:8080/",
     "height": 51
    },
    "colab_type": "code",
    "id": "Bi5PlkBxnN5X",
    "outputId": "a6e4456b-17da-40f4-cf95-5c341b86bba3"
   },
   "outputs": [],
   "source": [
    "lldf = obsdf.groupby(['LONG', 'LAT'], as_index=False).first()\n",
    "iidx, jidx = camxf.ll2ij(\n",
    "    lldf.LONG.values, lldf.LAT.values, clean='mask'\n",
    ")\n",
    "# increased buffer edge by 1\n",
    "# this allows a 3x3 array inside\n",
    "# the domain\n",
    "valididx = (\n",
    "    (iidx >= 1) & (iidx < (camxf.NCOLS - 1)) &\n",
    "    (jidx >= 1) & (jidx < (camxf.NROWS - 1))                                  \n",
    ")"
   ]
  },
  {
   "cell_type": "code",
   "execution_count": 10,
   "metadata": {
    "colab": {},
    "colab_type": "code",
    "id": "dIdQ_RpU1r5D"
   },
   "outputs": [],
   "source": [
    "smatobsdf = lldf[valididx].copy()\n",
    "smatobsdf['K'] = jidx[valididx] * 0\n",
    "smatobsdf['J'] = jidx[valididx]\n",
    "smatobsdf['I'] = iidx[valididx]\n",
    "gdf = smatobsdf.groupby(['K', 'J', 'I'], as_index=False).max()"
   ]
  },
  {
   "cell_type": "code",
   "execution_count": 11,
   "metadata": {
    "colab": {},
    "colab_type": "code",
    "id": "OF-sqWj_qE03"
   },
   "outputs": [],
   "source": [
    "dataframes = []\n",
    "times = camxmda8f.getTimes()\n",
    "timesstr = pd.to_datetime(times[:, None].repeat(gdf.shape[0], 1).ravel()).strftime('%Y%m%d')\n",
    "myk = gdf.K.values\n",
    "\n",
    "# Used for matrix construction\n",
    "naway = 1\n",
    "dcells = range(-naway, naway + 1)\n",
    "\n",
    "for i in dcells:\n",
    "  myi = gdf['I'].values + i\n",
    "  for j in dcells:\n",
    "    myj = gdf['J'].values + j\n",
    "    o3 = o3mda8[:, myk, myj, myi] * 1000\n",
    "    data = dict(\n",
    "        _ID=((myi + 1) * 1000 + (myj + 1))[None, :].repeat(times.size, 0).ravel(),\n",
    "        LONG=lon[myj, myi][None, :].repeat(times.size, 0).ravel(),\n",
    "        LAT=lat[myj, myi][None, :].repeat(times.size, 0).ravel(),\n",
    "        DATE=timesstr,\n",
    "        O3=o3.ravel()\n",
    "    )\n",
    "    tmpdf = pd.DataFrame(data=data)\n",
    "    dataframes.append(tmpdf)\n",
    "\n",
    "outdf = pd.concat(dataframes)\n",
    "outdf['_TYPE'] = ''\n"
   ]
  },
  {
   "cell_type": "code",
   "execution_count": 12,
   "metadata": {
    "colab": {},
    "colab_type": "code",
    "id": "9dhleANPwI1g"
   },
   "outputs": [],
   "source": [
    "def savesmat(df, outpath):\n",
    "    # get rid of overlaps\n",
    "    df = df.groupby(['DATE', '_ID'], as_index=False).first()\n",
    "    keys = ['_ID', '_TYPE', 'LAT', 'LONG', 'DATE', 'O3']\n",
    "    outf = open(outpath, 'w')\n",
    "    outf.write('Day\\n')\n",
    "    df.loc[:, keys].sort_values(['DATE', '_ID']).to_csv(outf, index=False, float_format='%.6f')\n",
    "    outf.close()\n"
   ]
  },
  {
   "cell_type": "code",
   "execution_count": 13,
   "metadata": {},
   "outputs": [],
   "source": [
    "savesmat(outdf, 'CAMX_FOR_SMAT.csv')"
   ]
  },
  {
   "cell_type": "code",
   "execution_count": 14,
   "metadata": {
    "colab": {},
    "colab_type": "code",
    "id": "8uXHAKpLwemi"
   },
   "outputs": [],
   "source": [
    "testdf = outdf.copy()\n",
    "testdf['O3'] *= 0.9\n",
    "savesmat(testdf, 'CAMX_90pct_FOR_SMAT.csv')"
   ]
  },
  {
   "cell_type": "markdown",
   "metadata": {},
   "source": [
    "# Ran with SMAT\n",
    "\n",
    "All sites had a 90% RRF as expected.\n"
   ]
  },
  {
   "cell_type": "code",
   "execution_count": null,
   "metadata": {},
   "outputs": [],
   "source": []
  }
 ],
 "metadata": {
  "colab": {
   "name": "camx_smat_input.ipynb",
   "provenance": [],
   "toc_visible": true
  },
  "kernelspec": {
   "display_name": "Python 3",
   "language": "python",
   "name": "python3"
  },
  "language_info": {
   "codemirror_mode": {
    "name": "ipython",
    "version": 3
   },
   "file_extension": ".py",
   "mimetype": "text/x-python",
   "name": "python",
   "nbconvert_exporter": "python",
   "pygments_lexer": "ipython3",
   "version": "3.8.1"
  }
 },
 "nbformat": 4,
 "nbformat_minor": 4
}
