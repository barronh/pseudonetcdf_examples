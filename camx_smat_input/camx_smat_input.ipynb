{
  "nbformat": 4,
  "nbformat_minor": 0,
  "metadata": {
    "colab": {
      "name": "camx_smat_input.ipynb",
      "provenance": []
    },
    "kernelspec": {
      "display_name": "Python 3",
      "language": "python",
      "name": "python3"
    },
    "language_info": {
      "codemirror_mode": {
        "name": "ipython",
        "version": 3
      },
      "file_extension": ".py",
      "mimetype": "text/x-python",
      "name": "python",
      "nbconvert_exporter": "python",
      "pygments_lexer": "ipython3",
      "version": "3.8.1"
    }
  },
  "cells": [
    {
      "cell_type": "markdown",
      "metadata": {
        "id": "IDcHFGsfmQ-4"
      },
      "source": [
        "<a href=\"https://colab.research.google.com/github/barronh/pseudonetcdf_examples/blob/main/camx_smat_input/camx_smat_input.ipynb\" target=\"_parent\"><img src=\"https://colab.research.google.com/assets/colab-badge.svg\" alt=\"Open In Colab\"/></a>"
      ]
    },
    {
      "cell_type": "markdown",
      "metadata": {
        "id": "TxSyrsP5mQ-_"
      },
      "source": [
        "# Prepare SMAT Inputs from CAMX\n",
        "\n",
        "    author: Barron H. Henderson\n",
        "    date: 2020-08-24\n",
        "    last updated: 2021-11-15\n",
        "    PseudoNetCDF version: latest"
      ]
    },
    {
      "cell_type": "markdown",
      "metadata": {
        "id": "tjtsfElOmQ_D"
      },
      "source": [
        "# Overview\n",
        "\n",
        "This example shows how make SMAT inputs from CAMx output (avrg) files. The inputs are hourly gridded. They are converted to maximum daily 8-hour averages and then subset for 3x3 arrays around each monitor. The results are put in the SMAT-CE model input format."
      ]
    },
    {
      "cell_type": "markdown",
      "metadata": {
        "id": "nmwwKJ1fh0_l"
      },
      "source": [
        "# Install  Libraries\n",
        "\n",
        "* Use `apt-get` to install `libgeos-dev` for projection and transformations.\n",
        "* Use `pip` to install `basemap`  for mapping.\n",
        "* Use `pip` to install `PseudoNetCDF` for many file format support.\n",
        "* Can take a couple minutes"
      ]
    },
    {
      "cell_type": "code",
      "metadata": {
        "colab": {
          "base_uri": "https://localhost:8080/"
        },
        "id": "9YWytCaU-dqk",
        "outputId": "97bd2ce1-10f2-4372-9bc8-17134bfb8359"
      },
      "source": [
        "!pip install -qq pyproj pseudonetcdf"
      ],
      "execution_count": 1,
      "outputs": [
        {
          "output_type": "stream",
          "name": "stdout",
          "text": [
            "\u001b[K     |████████████████████████████████| 6.3 MB 4.7 MB/s \n",
            "\u001b[K     |████████████████████████████████| 298 kB 31.1 MB/s \n",
            "\u001b[?25h  Building wheel for pseudonetcdf (setup.py) ... \u001b[?25l\u001b[?25hdone\n"
          ]
        }
      ]
    },
    {
      "cell_type": "markdown",
      "metadata": {
        "id": "UfrV12xomQ_c"
      },
      "source": [
        "# Import Libraries\n",
        "\n",
        "* `PseudoNetCDF` for camx file reading\n",
        "* `pandas` for csv writing\n",
        "* `numpy` for numeric processing\n",
        "* `os` for path manipulation\n",
        "* `urlretrieve` to download obs\n"
      ]
    },
    {
      "cell_type": "code",
      "metadata": {
        "id": "-NpmtK8QmQ_f"
      },
      "source": [
        "import PseudoNetCDF as pnc\n",
        "import pandas as pd\n",
        "import numpy as np\n",
        "import os\n",
        "from urllib.request import urlretrieve"
      ],
      "execution_count": 2,
      "outputs": []
    },
    {
      "cell_type": "markdown",
      "metadata": {
        "id": "G_rYNzk2uFdj"
      },
      "source": [
        "# Downloading the CAMx v7 Test Case\n",
        "\n",
        "* Go to http://camx.com and \"Download,\" then \"CAMx Test Case\n",
        "* Right click on one of the \"Test problem outputs\" links, and choose \"Copy link address\"\n",
        "* Update the camxtarurl below.\n"
      ]
    },
    {
      "cell_type": "code",
      "metadata": {
        "id": "dRUjGVnKxI0J",
        "colab": {
          "base_uri": "https://localhost:8080/"
        },
        "outputId": "bc08c947-1336-42a5-d939-ff5614499cef"
      },
      "source": [
        "# Requires input from the user\n",
        "# most recently, the url was:\n",
        "# 'https://camx-wp.azurewebsites.net/getmedia/CAMx7-10-test_run-outputs-GFortran_compiler-210105.tgz'\n",
        "camxtarurl = input('Enter CAMx test case url: ')"
      ],
      "execution_count": 3,
      "outputs": [
        {
          "name": "stdout",
          "output_type": "stream",
          "text": [
            "Enter CAMx test case url: https://camx-wp.azurewebsites.net/getmedia/CAMx7-10-test_run-outputs-GFortran_compiler-210105.tgz\n"
          ]
        }
      ]
    },
    {
      "cell_type": "markdown",
      "metadata": {
        "id": "5PrwMKDJ9zQf"
      },
      "source": [
        "* If not downloaded, download it.\n",
        "* If not extracted, extract two model output days as netcdf."
      ]
    },
    {
      "cell_type": "code",
      "metadata": {
        "colab": {
          "base_uri": "https://localhost:8080/"
        },
        "id": "TQuMLLOXrep0",
        "outputId": "be8930b8-c66b-4426-c974-45a38d0ae7b3"
      },
      "source": [
        "camxtarpath = os.path.basename(camxtarurl)\n",
        "print(camxtarpath)\n",
        "if not os.path.exists(camxtarpath):\n",
        "    urlretrieve(camxtarurl, filename=camxtarpath)"
      ],
      "execution_count": 4,
      "outputs": [
        {
          "output_type": "stream",
          "name": "stdout",
          "text": [
            "CAMx7-10-test_run-outputs-GFortran_compiler-210105.tgz\n"
          ]
        }
      ]
    },
    {
      "cell_type": "code",
      "metadata": {
        "colab": {
          "base_uri": "https://localhost:8080/"
        },
        "id": "hb-jyFmdri50",
        "outputId": "2395db98-69bd-44ed-b78e-875cb93e1593"
      },
      "source": [
        "!tar xzf {camxtarpath} --wildcards \"*.avrg.grd02.nc\"\n",
        "camxoutpaths = !ls ./outputs/*.avrg.grd02.nc\n",
        "camxoutpaths"
      ],
      "execution_count": 5,
      "outputs": [
        {
          "output_type": "execute_result",
          "data": {
            "text/plain": [
              "['./outputs/CAMx.v7.10.36.12.20160610.avrg.grd02.nc',\n",
              " './outputs/CAMx.v7.10.36.12.20160611.avrg.grd02.nc']"
            ]
          },
          "metadata": {},
          "execution_count": 5
        }
      ]
    },
    {
      "cell_type": "markdown",
      "metadata": {
        "id": "ih-PueM0uFdn"
      },
      "source": [
        "# Download Observations\n",
        "\n",
        "* Used for monitor locations\n",
        "* If not donwloaded, download.\n",
        "* Load latitude and longitude"
      ]
    },
    {
      "cell_type": "code",
      "metadata": {
        "id": "D0jbthpZnGmS"
      },
      "source": [
        "obspath = '8hour_44201_2016.zip'\n",
        "downloadroot = 'https://aqs.epa.gov/aqsweb/airdata/'\n",
        "if not os.path.exists(obspath):\n",
        "  urlretrieve(downloadroot + obspath, obspath)"
      ],
      "execution_count": 6,
      "outputs": []
    },
    {
      "cell_type": "code",
      "metadata": {
        "id": "6-q_D5XFnJ9j"
      },
      "source": [
        "def keyclean(k):\n",
        "    k = k.replace(' ', '')\n",
        "    k = k.replace('1st', 'First')\n",
        "    k = k.replace('Latitude', 'LAT')\n",
        "    k = k.replace('Longitude', 'LONG')\n",
        "    k = k.replace('DateLocal', 'Date')\n",
        "    return k\n",
        "\n",
        "obsdf = pd.read_csv(obspath, usecols=['Latitude', 'Longitude']).rename(columns=keyclean)"
      ],
      "execution_count": 7,
      "outputs": []
    },
    {
      "cell_type": "markdown",
      "metadata": {
        "id": "teAEKxF-uFdq"
      },
      "source": [
        "# Maximum Daily Average 8-hour\n",
        "\n",
        "* Define a mda8 function\n",
        "* Currently not providing time zone support. -- Just an example."
      ]
    },
    {
      "cell_type": "code",
      "metadata": {
        "id": "Et1wmJx3tCtR"
      },
      "source": [
        "def mda8(x):\n",
        "  \"\"\"\n",
        "  Calculate maximum daily 8-hour average.\n",
        "\n",
        "  \n",
        "  Arguments\n",
        "  ---------\n",
        "  x : array-like\n",
        "    vector of time values\n",
        "  \n",
        "  Returns\n",
        "  -------\n",
        "    Daily maximum of the 8-hour average\n",
        "  \n",
        "  Notes\n",
        "  -----\n",
        "  No tz support yet\n",
        "  \"\"\"\n",
        "  return np.convolve(np.ones(8)/8., x, mode='full')[7:].reshape(-1, 24)[:, :17].max(1)"
      ],
      "execution_count": 8,
      "outputs": []
    },
    {
      "cell_type": "markdown",
      "metadata": {
        "id": "Xg6qM0_huFds"
      },
      "source": [
        "# Process CAMx Files"
      ]
    },
    {
      "cell_type": "code",
      "metadata": {
        "colab": {
          "base_uri": "https://localhost:8080/"
        },
        "id": "nweQT75WnLgK",
        "outputId": "359503fe-630c-4731-fec4-b4db7538a6fe"
      },
      "source": [
        "camxf = pnc.pncmfopen(\n",
        "    camxoutpaths, format='ioapi', stackdim='TSTEP'\n",
        ").subset(['O3']).slice(\n",
        "    ROW=slice(1, -1), # Nested inputs have invalid zeros in the edge\n",
        "    COL=slice(1, -1)  # This removes the edges\n",
        ")\n",
        "camxmda8f = camxf.apply(TSTEP=mda8)\n",
        "\n",
        "# Extending data to be a quarter\n",
        "camxmda8f = camxmda8f.slice(TSTEP=np.arange(2, dtype='i').repeat(45, 0))\n",
        "camxmda8f.updatetflag(startdate=camxf.getTimes()[0], overwrite=True, tstep=240000)\n",
        "\n",
        "o3mda8 = camxmda8f.variables['O3']"
      ],
      "execution_count": 9,
      "outputs": [
        {
          "output_type": "stream",
          "name": "stderr",
          "text": [
            "**PNC:/usr/local/lib/python3.7/dist-packages/PseudoNetCDF/pncwarn.py:24:UserWarning:\n",
            "  Got duplicate variables for X without stackable dimension; first value retained\n",
            "**PNC:/usr/local/lib/python3.7/dist-packages/PseudoNetCDF/pncwarn.py:24:UserWarning:\n",
            "  Got duplicate variables for Y without stackable dimension; first value retained\n",
            "**PNC:/usr/local/lib/python3.7/dist-packages/PseudoNetCDF/pncwarn.py:24:UserWarning:\n",
            "  New time is unstructured\n"
          ]
        }
      ]
    },
    {
      "cell_type": "code",
      "metadata": {
        "colab": {
          "base_uri": "https://localhost:8080/"
        },
        "id": "YrzhHxWj1aPx",
        "outputId": "dc9e50ae-4c48-40fc-a591-691cee708a1a"
      },
      "source": [
        "times = pd.to_datetime([t.replace(tzinfo=None) for t in camxmda8f.getTimes()])\n",
        "I, J = np.meshgrid(np.arange(camxmda8f.NCOLS), np.arange(camxmda8f.NCOLS))\n",
        "lon, lat = camxmda8f.ij2ll(I, J)\n",
        "ID = I * 1000 + J + 1001"
      ],
      "execution_count": 10,
      "outputs": [
        {
          "output_type": "stream",
          "name": "stderr",
          "text": [
            "**PNC:/usr/local/lib/python3.7/dist-packages/PseudoNetCDF/pncwarn.py:24:UserWarning:\n",
            "  IOAPI_ISPH is assumed to be 6370000.; consistent with WRF\n"
          ]
        }
      ]
    },
    {
      "cell_type": "code",
      "metadata": {
        "colab": {
          "base_uri": "https://localhost:8080/"
        },
        "id": "Bi5PlkBxnN5X",
        "outputId": "e5ef36bb-d338-465d-8bf2-b5d0e456a902"
      },
      "source": [
        "lldf = obsdf.groupby(['LONG', 'LAT'], as_index=False).first()\n",
        "iidx, jidx = camxf.ll2ij(\n",
        "    lldf.LONG.values, lldf.LAT.values, clean='mask'\n",
        ")\n",
        "# increased buffer edge by 1\n",
        "# this allows a 3x3 array inside\n",
        "# the domain\n",
        "valididx = (\n",
        "    (iidx >= 1) & (iidx < (camxf.NCOLS - 1)) &\n",
        "    (jidx >= 1) & (jidx < (camxf.NROWS - 1))                                  \n",
        ")"
      ],
      "execution_count": 11,
      "outputs": [
        {
          "output_type": "stream",
          "name": "stderr",
          "text": [
            "**PNC:/usr/local/lib/python3.7/dist-packages/PseudoNetCDF/pncwarn.py:24:UserWarning:\n",
            "  IOAPI_ISPH is assumed to be 6370000.; consistent with WRF\n"
          ]
        }
      ]
    },
    {
      "cell_type": "code",
      "metadata": {
        "id": "dIdQ_RpU1r5D"
      },
      "source": [
        "smatobsdf = lldf[valididx].copy()\n",
        "smatobsdf['K'] = jidx[valididx] * 0\n",
        "smatobsdf['J'] = jidx[valididx]\n",
        "smatobsdf['I'] = iidx[valididx]\n",
        "gdf = smatobsdf.groupby(['K', 'J', 'I'], as_index=False).max()"
      ],
      "execution_count": 12,
      "outputs": []
    },
    {
      "cell_type": "code",
      "metadata": {
        "id": "OF-sqWj_qE03"
      },
      "source": [
        "dataframes = []\n",
        "times = camxmda8f.getTimes()\n",
        "timesstr = pd.to_datetime(times[:, None].repeat(gdf.shape[0], 1).ravel()).strftime('%Y%m%d')\n",
        "myk = gdf.K.values\n",
        "\n",
        "# Used for matrix construction\n",
        "naway = 1\n",
        "dcells = range(-naway, naway + 1)\n",
        "\n",
        "for i in dcells:\n",
        "  myi = gdf['I'].values + i\n",
        "  for j in dcells:\n",
        "    myj = gdf['J'].values + j\n",
        "    o3 = o3mda8[:, myk, myj, myi] * 1000\n",
        "    data = dict(\n",
        "        _ID=((myi + 1) * 1000 + (myj + 1))[None, :].repeat(times.size, 0).ravel(),\n",
        "        LONG=lon[myj, myi][None, :].repeat(times.size, 0).ravel(),\n",
        "        LAT=lat[myj, myi][None, :].repeat(times.size, 0).ravel(),\n",
        "        DATE=timesstr,\n",
        "        O3=o3.ravel()\n",
        "    )\n",
        "    tmpdf = pd.DataFrame(data=data)\n",
        "    dataframes.append(tmpdf)\n",
        "\n",
        "outdf = pd.concat(dataframes)\n",
        "outdf['_TYPE'] = ''\n"
      ],
      "execution_count": 13,
      "outputs": []
    },
    {
      "cell_type": "code",
      "metadata": {
        "id": "9dhleANPwI1g"
      },
      "source": [
        "def savesmat(df, outpath):\n",
        "    # get rid of overlaps\n",
        "    df = df.groupby(['DATE', '_ID'], as_index=False).first()\n",
        "    keys = ['_ID', '_TYPE', 'LAT', 'LONG', 'DATE', 'O3']\n",
        "    outf = open(outpath, 'w')\n",
        "    outf.write('Day\\n')\n",
        "    df.loc[:, keys].sort_values(['DATE', '_ID']).to_csv(outf, index=False, float_format='%.6f')\n",
        "    outf.close()\n"
      ],
      "execution_count": 14,
      "outputs": []
    },
    {
      "cell_type": "code",
      "metadata": {
        "id": "Npl6o0WkuFdx"
      },
      "source": [
        "savesmat(outdf, 'CAMX_FOR_SMAT.csv')"
      ],
      "execution_count": 15,
      "outputs": []
    },
    {
      "cell_type": "code",
      "metadata": {
        "id": "8uXHAKpLwemi"
      },
      "source": [
        "testdf = outdf.copy()\n",
        "testdf['O3'] *= 0.9\n",
        "savesmat(testdf, 'CAMX_90pct_FOR_SMAT.csv')"
      ],
      "execution_count": 16,
      "outputs": []
    },
    {
      "cell_type": "markdown",
      "metadata": {
        "id": "lx6g1f5RuFdy"
      },
      "source": [
        "# Ran with SMAT\n",
        "\n",
        "All sites had a 90% RRF as expected.\n"
      ]
    },
    {
      "cell_type": "code",
      "metadata": {
        "id": "xt4FP9U_uFdy"
      },
      "source": [
        ""
      ],
      "execution_count": null,
      "outputs": []
    }
  ]
}