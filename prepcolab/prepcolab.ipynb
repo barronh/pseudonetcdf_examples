{
 "cells": [
  {
   "cell_type": "markdown",
   "metadata": {},
   "source": [
    "<a href=\"https://colab.research.google.com/github/barronh/pseudonetcdf_examples/blob/main/prepcolab/prepcolab.ipynb\" target=\"_parent\"><img src=\"https://colab.research.google.com/assets/colab-badge.svg\" alt=\"Open In Colab\"/></a>"
   ]
  },
  {
   "cell_type": "markdown",
   "metadata": {},
   "source": [
    "# Prepare Google Colab for PseudoNetCDF\n",
    "\n",
    "    author: Barron H. Henderson\n",
    "    date: 2020-08-06\n",
    "    PseudoNetCDF version: latest"
   ]
  },
  {
   "cell_type": "markdown",
   "metadata": {},
   "source": [
    "# Overview\n",
    "\n",
    "Short: This example shows how to setup a Google Colaboratory Environment for full PseudoNetCDF Capabilities.\n",
    "\n",
    "Google Colab is a great place to work with PseudoNetCDF. To get the full spatial capabilities, however, you need to update the system packages and install a couple Python libries. PseudoNetCDF provides spatial transformation and mapping supprot, and the libraries it uses to do that rely on GEOS. So, you have to install GEOS (via `apt-get`) and pyproj and basemap (via `pip`). \n",
    "\n",
    "All of this can be done from within the notebook! This example shows how to do just that."
   ]
  },
  {
   "cell_type": "markdown",
   "metadata": {
    "colab_type": "text",
    "id": "nmwwKJ1fh0_l"
   },
   "source": [
    "# Install  Libraries\n",
    "\n",
    "* Use `apt-get` to install `libgeos-dev` for projection and transformations.\n",
    "* Use `pip` to install `basemap`  for mapping.\n",
    "* Use `pip` to install `PseudoNetCDF` for many file format support.\n",
    "* Can take a couple minutes"
   ]
  },
  {
   "cell_type": "code",
   "execution_count": 1,
   "metadata": {
    "colab": {
     "base_uri": "https://localhost:8080/",
     "height": 221
    },
    "colab_type": "code",
    "id": "9YWytCaU-dqk",
    "outputId": "4156ba71-9712-4b33-ae52-99b07c113207"
   },
   "outputs": [
    {
     "name": "stdout",
     "output_type": "stream",
     "text": [
      "Selecting previously unselected package libgeos-dev.\n",
      "(Reading database ... 144467 files and directories currently installed.)\n",
      "Preparing to unpack .../libgeos-dev_3.6.2-1build2_amd64.deb ...\n",
      "Unpacking libgeos-dev (3.6.2-1build2) ...\n",
      "Setting up libgeos-dev (3.6.2-1build2) ...\n",
      "Processing triggers for man-db (2.8.3-2ubuntu0.1) ...\n",
      "Selecting previously unselected package netcdf-bin.\n",
      "(Reading database ... 144483 files and directories currently installed.)\n",
      "Preparing to unpack .../netcdf-bin_1%3a4.6.0-2build1_amd64.deb ...\n",
      "Unpacking netcdf-bin (1:4.6.0-2build1) ...\n",
      "Setting up netcdf-bin (1:4.6.0-2build1) ...\n",
      "Processing triggers for man-db (2.8.3-2ubuntu0.1) ...\n"
     ]
    }
   ],
   "source": [
    "!apt-get -qq install libgeos-dev\n",
    "!pip install -q https://github.com/matplotlib/basemap/archive/master.zip\n",
    "!pip install -q https://github.com/barronh/pseudonetcdf/archive/master.zip"
   ]
  },
  {
   "cell_type": "markdown",
   "metadata": {},
   "source": [
    "# Colab is Ready for  PseudoNetCDF\n",
    "\n",
    "* Now add lines of code to do what you want."
   ]
  },
  {
   "cell_type": "code",
   "execution_count": null,
   "metadata": {},
   "outputs": [],
   "source": [
    "import PseudoNetCDF as pnc"
   ]
  }
 ],
 "metadata": {
  "kernelspec": {
   "display_name": "Python 3",
   "language": "python",
   "name": "python3"
  },
  "language_info": {
   "codemirror_mode": {
    "name": "ipython",
    "version": 3
   },
   "file_extension": ".py",
   "mimetype": "text/x-python",
   "name": "python",
   "nbconvert_exporter": "python",
   "pygments_lexer": "ipython3",
   "version": "3.8.1"
  }
 },
 "nbformat": 4,
 "nbformat_minor": 4
}
