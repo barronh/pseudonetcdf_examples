{
 "cells": [
  {
   "cell_type": "markdown",
   "metadata": {
    "colab_type": "text",
    "id": "view-in-github"
   },
   "source": [
    "<a href=\"https://colab.research.google.com/github/barronh/pseudonetcdf_examples/blob/main/csv2camxemis/csv2camxemis.ipynb\" target=\"_parent\"><img src=\"https://colab.research.google.com/assets/colab-badge.svg\" alt=\"Open In Colab\"/></a>"
   ]
  },
  {
   "cell_type": "markdown",
   "metadata": {
    "colab_type": "text",
    "id": "boQZJlVphA90"
   },
   "source": [
    "# CAMx Emissions From CSV\n",
    "\n",
    "* Create an emissions file from a CSV file.\n",
    "* CSV file must have columns\n",
    "  * lat, lon in decimal degrees,\n",
    "  * hour in utc (0-23), and\n",
    "  * and emission variables with units appropriate for CAMx\n",
    "* Runs completely in the cloud\n",
    "  * To completely run with synthetic emissions, choose `Runtime` menu and then `Run all`\n"
   ]
  },
  {
   "cell_type": "markdown",
   "metadata": {
    "colab_type": "text",
    "id": "nmwwKJ1fh0_l"
   },
   "source": [
    "# Install System Libraries\n",
    "\n",
    "* Requries libgeos-dev for projections\n",
    "* Requries netcdf-bin for ncgen\n",
    "* Takes a minute or so"
   ]
  },
  {
   "cell_type": "code",
   "execution_count": 1,
   "metadata": {
    "colab": {
     "base_uri": "https://localhost:8080/",
     "height": 221
    },
    "colab_type": "code",
    "id": "9YWytCaU-dqk",
    "outputId": "4156ba71-9712-4b33-ae52-99b07c113207"
   },
   "outputs": [
    {
     "name": "stdout",
     "output_type": "stream",
     "text": [
      "Selecting previously unselected package libgeos-dev.\n",
      "(Reading database ... 144467 files and directories currently installed.)\n",
      "Preparing to unpack .../libgeos-dev_3.6.2-1build2_amd64.deb ...\n",
      "Unpacking libgeos-dev (3.6.2-1build2) ...\n",
      "Setting up libgeos-dev (3.6.2-1build2) ...\n",
      "Processing triggers for man-db (2.8.3-2ubuntu0.1) ...\n",
      "Selecting previously unselected package netcdf-bin.\n",
      "(Reading database ... 144483 files and directories currently installed.)\n",
      "Preparing to unpack .../netcdf-bin_1%3a4.6.0-2build1_amd64.deb ...\n",
      "Unpacking netcdf-bin (1:4.6.0-2build1) ...\n",
      "Setting up netcdf-bin (1:4.6.0-2build1) ...\n",
      "Processing triggers for man-db (2.8.3-2ubuntu0.1) ...\n"
     ]
    }
   ],
   "source": [
    "!apt-get -qq install libgeos-dev\n",
    "!apt-get -qq install netcdf-bin"
   ]
  },
  {
   "cell_type": "markdown",
   "metadata": {
    "colab_type": "text",
    "id": "P1WY68ae2cAi"
   },
   "source": [
    "# Install Python Libraries\n",
    "\n",
    "* `basemap` is used for mapping and projection support, which is installed to support it.\n",
    "* `PseudoNetCDF` is installed for IOAPI-like support.\n"
   ]
  },
  {
   "cell_type": "code",
   "execution_count": 2,
   "metadata": {
    "colab": {
     "base_uri": "https://localhost:8080/",
     "height": 170
    },
    "colab_type": "code",
    "id": "l8iJqlot_7VQ",
    "outputId": "9068279b-d3ab-470d-c608-316f565a4dc2"
   },
   "outputs": [
    {
     "name": "stdout",
     "output_type": "stream",
     "text": [
      "\u001b[K     |████████████████████████████████| 133.1MB 70kB/s \n",
      "\u001b[K     |████████████████████████████████| 10.9MB 7.5MB/s \n",
      "\u001b[K     |████████████████████████████████| 225kB 47.5MB/s \n",
      "\u001b[?25h  Building wheel for basemap (setup.py) ... \u001b[?25l\u001b[?25hdone\n",
      "  Building wheel for pyshp (setup.py) ... \u001b[?25l\u001b[?25hdone\n",
      "\u001b[K     \\ 2.5MB 1.2MB/s\n",
      "\u001b[K     |████████████████████████████████| 4.1MB 4.7MB/s \n",
      "\u001b[K     |████████████████████████████████| 327kB 45.1MB/s \n",
      "\u001b[?25h  Building wheel for PseudoNetCDF (setup.py) ... \u001b[?25l\u001b[?25hdone\n"
     ]
    }
   ],
   "source": [
    "!pip install -q https://github.com/matplotlib/basemap/archive/master.zip\n",
    "!pip install -q https://github.com/barronh/pseudonetcdf/archive/master.zip"
   ]
  },
  {
   "cell_type": "markdown",
   "metadata": {
    "colab_type": "text",
    "id": "YwWQoliQ0Rky"
   },
   "source": [
    "# Import Libraries Used Later\n",
    "\n",
    "* `google.colab.files` used to download\n",
    "* `IPython.display.clear_output` used to animate\n",
    "* `time` used to set animation speed\n",
    "* `numpy` used for math\n",
    "* `pandas` used for csv\n",
    "* `PseudoNetCDF` used for ioapi-like support"
   ]
  },
  {
   "cell_type": "code",
   "execution_count": null,
   "metadata": {
    "colab": {},
    "colab_type": "code",
    "id": "0rOHhK3bg76q"
   },
   "outputs": [],
   "source": [
    "from google.colab import files\n",
    "from IPython.display import clear_output\n",
    "import time\n",
    "from datetime import datetime\n",
    "import numpy as np\n",
    "import pandas as pd\n",
    "import PseudoNetCDF as pnc"
   ]
  },
  {
   "cell_type": "markdown",
   "metadata": {
    "colab_type": "text",
    "id": "qjoDkFY5iYIy"
   },
   "source": [
    "# Synthetic Data\n",
    "\n",
    "* Optionally, updload your own data and replace this code with\n",
    "  * drag file to browser on left\n",
    "  * set inpath to your file name (e.g., inpath = 'yourfile.csv')\n",
    "* If you do not change inpath, this code invents a CSV file\n",
    "  * It will be a sin wave of NO and NO2 that evovles over time.\n",
    "  * 90/10 split between NO and No2\n",
    "\n"
   ]
  },
  {
   "cell_type": "code",
   "execution_count": null,
   "metadata": {
    "colab": {},
    "colab_type": "code",
    "id": "X_BSRATBBybP"
   },
   "outputs": [],
   "source": [
    "inpath = None\n",
    "if inpath is not None:\n",
    "  data = pd.read_csv(inpath)\n",
    "else:\n",
    "  lat = (np.sin(np.linspace(0, 2*np.pi, 100)) * 7 + 40).round(2)\n",
    "  lon = np.linspace(-120, -80, 100)\n",
    "  hour = np.floor(np.linspace(0, 23.99, 100)).astype('i')\n",
    "  NO = np.random.lognormal(0.09, sigma=0.1, size=100)\n",
    "  NO2 = np.random.lognormal(0.01, sigma=0.01, size=100)\n",
    "  data = pd.DataFrame.from_dict(dict(lat=lat, lon=lon, hour=hour, NO=NO, NO2=NO2))"
   ]
  },
  {
   "cell_type": "markdown",
   "metadata": {
    "colab_type": "text",
    "id": "YKtjcPuToSji"
   },
   "source": [
    "# Separate Meta from Variables\n",
    "\n",
    "* Make a list of meta variables\n",
    "* The emission keys should be all the rest"
   ]
  },
  {
   "cell_type": "code",
   "execution_count": null,
   "metadata": {
    "colab": {},
    "colab_type": "code",
    "id": "UWZX2O6KixPE"
   },
   "outputs": [],
   "source": [
    "metakeys = ('lat', 'lon', 'hour')\n",
    "emiskeys = [k for k in data.columns if k not in metakeys]"
   ]
  },
  {
   "cell_type": "markdown",
   "metadata": {
    "colab_type": "text",
    "id": "rPvWbrwUixyr"
   },
   "source": [
    "# Create Global Option Dictionary\n",
    "\n",
    "* I copied meta data from default 36km emissions\n",
    "* You can update these however you want\n",
    "* SDATE/STIME control the starting time\n",
    "* CDATE/WDATE note when it was written\n",
    "* NAME, NOTE, FILEDESC are meta variables\n",
    "* Other variables define the grid and vertical structure\n",
    "  * The meanings of parameters are described by IOAPI (link below)\n",
    "  * grid params: P_ALP, P_BET, P_GAM, XCENT, YCENT, XCELL, YCELL\n",
    "\n",
    "\n",
    "https://www.cmascenter.org/ioapi/documentation/all_versions/html/GRIDS.html"
   ]
  },
  {
   "cell_type": "code",
   "execution_count": null,
   "metadata": {
    "colab": {},
    "colab_type": "code",
    "id": "smspkmOf_jbI"
   },
   "outputs": [],
   "source": [
    "wYYYYJJJ = int(datetime.today().strftime('%Y%j'))\n",
    "wHHMMSS = int(datetime.today().strftime('%H%M%S'))\n",
    "globalprops = {\n",
    "  'SDATE': 2020001, 'STIME': 0, 'TSTEP': 10000, 'NSTEPS': 25,\n",
    "  'NLAYS': 1, 'NROWS': 91, 'NCOLS': 158, 'NTHIK': 1,\n",
    "  'P_ALP': 45., 'P_BET': 33., 'P_GAM': -97.,\n",
    "  'XCENT': -97., 'YCENT': 40., 'XCELL': 36000., 'YCELL': 36000.,\n",
    "  'XORIG': -2556000., 'YORIG': -1872000.,\n",
    "  'VGTYP': 6, 'VGTOP': np.float32(10000.),\n",
    "  'VGLVLS': np.float32([0]),\n",
    "  'CPROJ': 2, 'GDTYP': 2, 'IUTM': 0,\n",
    "  'ISTAG': 0, 'ITZON': 0,\n",
    "  'NAME': \"EMISSIONS\", 'NOTE': \"EMISSIONS\", 'FILEDESC': \"EMISSIONS\",\n",
    "  'FTYPE': 1, 'GDNAM': \"CAMx v6.50\", 'UPNAM': \"CAMx v6.50\",\n",
    "  'CDATE': wYYYYJJJ, 'CTIME': wHHMMSS, 'WDATE': wYYYYJJJ, 'WTIME': wHHMMSS,\n",
    "  'NVARS': len(emiskeys),\n",
    "  'VAR-LIST': ''.join([k.ljust(16) for k in emiskeys]),\n",
    "}"
   ]
  },
  {
   "cell_type": "markdown",
   "metadata": {
    "colab_type": "text",
    "id": "ORZt6eGxv4Cc"
   },
   "source": [
    "# Create File\n",
    "\n",
    "* Make an ioapi-like file.\n",
    "* Add dimensions\n",
    "* Add properties"
   ]
  },
  {
   "cell_type": "code",
   "execution_count": null,
   "metadata": {
    "colab": {},
    "colab_type": "code",
    "id": "tbPKeVvTvD2J"
   },
   "outputs": [],
   "source": [
    "emisncf = pnc.cmaqfiles.ioapi_base()\n",
    "emisncf.createDimension('TSTEP', globalprops['NSTEPS']).setunlimited(True)\n",
    "emisncf.createDimension('VAR', globalprops['NVARS'])\n",
    "emisncf.createDimension('DATE-TIME', 2)\n",
    "emisncf.createDimension('LAY', globalprops['NLAYS'])\n",
    "emisncf.createDimension('ROW', globalprops['NROWS'])\n",
    "emisncf.createDimension('COL', globalprops['NCOLS'])\n",
    "emisncf.setncatts(globalprops)"
   ]
  },
  {
   "cell_type": "markdown",
   "metadata": {
    "colab_type": "text",
    "id": "9ZCzVoyTwAbA"
   },
   "source": [
    "# Add meta-variables\n",
    "\n",
    "* TFLAG is derived from SDATE, STIME and TSTEP\n",
    "* X,Y,longitude,latitude are coordinates derived from projection"
   ]
  },
  {
   "cell_type": "code",
   "execution_count": 8,
   "metadata": {
    "colab": {
     "base_uri": "https://localhost:8080/",
     "height": 51
    },
    "colab_type": "code",
    "id": "YZvqMCLQvGiE",
    "outputId": "31a433f9-1283-45bb-ad56-a73b3ac6d3e9"
   },
   "outputs": [
    {
     "name": "stderr",
     "output_type": "stream",
     "text": [
      "**PNC:/usr/local/lib/python3.6/dist-packages/PseudoNetCDF/pncwarn.py:24:UserWarning:\n",
      "  IOAPI_ISPH is assumed to be 6370000.; consistent with WRF\n"
     ]
    }
   ],
   "source": [
    "# Add TFLAG\n",
    "emisncf.updatetflag()\n",
    "# Add x/y\n",
    "xvar = emisncf.createVariable('X', 'f', ('COL',))\n",
    "xvar.units = 'km'\n",
    "xvar.long_name = 'X coordinate'\n",
    "xvar.var_desc = 'X cartesian distance from projection origin'\n",
    "xvar[:] = eval('XORIG + XCELL / 2 + np.arange(NCOLS) * XCELL', None, globalprops) / 1000\n",
    "yvar = emisncf.createVariable('Y', 'f', ('ROW',))\n",
    "yvar.units = 'km'\n",
    "yvar.long_name = 'X coordinate'\n",
    "yvar.var_desc = 'X cartesian distance from projection origin'\n",
    "yvar[:] = eval('YORIG + YCELL / 2 + np.arange(NROWS) * YCELL', None, globalprops) / 1000\n",
    "# Add lon/lat\n",
    "I, J = eval('np.meshgrid(np.arange(NCOLS), np.arange(NROWS))', None, globalprops)\n",
    "glon, glat = emisncf.ij2ll(I, J)\n",
    "lonvar = emisncf.createVariable('longitude', 'f', ('ROW', 'COL'))\n",
    "lonvar.units = 'Degrees east'\n",
    "lonvar.long_name = 'Longitude'\n",
    "lonvar.var_desc = 'Longitude degrees east'\n",
    "lonvar.coordinates = 'latitude longitude'\n",
    "lonvar[:] = glon\n",
    "latvar = emisncf.createVariable('latitude', 'f', ('ROW', 'COL'))\n",
    "latvar.units = 'Degrees north'\n",
    "latvar.long_name = 'Latitude'\n",
    "latvar.var_desc = 'Latitude degrees north'\n",
    "latvar.coordinates = 'latitude longitude'\n",
    "latvar[:] = glat"
   ]
  },
  {
   "cell_type": "markdown",
   "metadata": {
    "colab_type": "text",
    "id": "_E-CyZpqwNr2"
   },
   "source": [
    "# Add Emission Variables\n",
    "\n",
    "* For each emission key\n",
    "* Add those variables with "
   ]
  },
  {
   "cell_type": "code",
   "execution_count": null,
   "metadata": {
    "colab": {},
    "colab_type": "code",
    "id": "pG60py8JvLYL"
   },
   "outputs": [],
   "source": [
    "# Create emission variables\n",
    "for emiskey in emiskeys:\n",
    "  var = emisncf.createVariable(emiskey, 'f', ('TSTEP', 'LAY', 'ROW', 'COL'))\n",
    "  var.long_name = emiskey.ljust(16)[:16]\n",
    "  var.var_desc='{} emissions'.format(emiskey).ljust(80)[:80]\n",
    "  var.units='mol hr-1'.ljust(16)"
   ]
  },
  {
   "cell_type": "markdown",
   "metadata": {
    "colab_type": "text",
    "id": "268gMazypTtv"
   },
   "source": [
    "# Use file to map lon/lat to Grid I,J\n",
    "\n",
    "* Python i,j are 0-based indices\n",
    "* PseudoNetCDFFile has an ll2ij\n",
    "* Using pandas to group and sum\n"
   ]
  },
  {
   "cell_type": "code",
   "execution_count": 10,
   "metadata": {
    "colab": {
     "base_uri": "https://localhost:8080/",
     "height": 51
    },
    "colab_type": "code",
    "id": "-4dZRh2SDBKk",
    "outputId": "120e2d8c-43f6-4fbd-9f89-0af4f1bb0a00"
   },
   "outputs": [
    {
     "name": "stderr",
     "output_type": "stream",
     "text": [
      "**PNC:/usr/local/lib/python3.6/dist-packages/PseudoNetCDF/pncwarn.py:24:UserWarning:\n",
      "  IOAPI_ISPH is assumed to be 6370000.; consistent with WRF\n"
     ]
    }
   ],
   "source": [
    "data['I'], data['J'] = emisncf.ll2ij(data.lon.values, data.lat.values)"
   ]
  },
  {
   "cell_type": "code",
   "execution_count": null,
   "metadata": {
    "colab": {},
    "colab_type": "code",
    "id": "lzmecpmXD2Qx"
   },
   "outputs": [],
   "source": [
    "grouped = data.groupby(['I', 'J', 'hour'], as_index=False).sum()"
   ]
  },
  {
   "cell_type": "markdown",
   "metadata": {
    "colab_type": "text",
    "id": "jRbvffxrwyBz"
   },
   "source": [
    "# Add Emissions Variables\n",
    "\n",
    "* Use hour, I, and J as indices\n",
    "* Create a zeros array\n",
    "* Write values into zeros array\n",
    "* Add array to file variable"
   ]
  },
  {
   "cell_type": "code",
   "execution_count": null,
   "metadata": {
    "colab": {},
    "colab_type": "code",
    "id": "Aai7nJ3aEbUe"
   },
   "outputs": [],
   "source": [
    "h = grouped.hour.values\n",
    "i = grouped.I.values\n",
    "j = grouped.J.values\n",
    "nt = emisncf.NSTEPS\n",
    "nl = len(emisncf.dimensions['LAY'])\n",
    "nr = len(emisncf.dimensions['ROW'])\n",
    "nc = len(emisncf.dimensions['COL'])\n",
    "for key in emiskeys:\n",
    "  var = emisncf.variables[key]\n",
    "  vals = np.zeros((nt, nl, nr, nc), dtype='f')\n",
    "  vals[h, h*0, j, i] = grouped[key].values\n",
    "  var[:] = vals\n"
   ]
  },
  {
   "cell_type": "markdown",
   "metadata": {
    "colab_type": "text",
    "id": "uO0Gv-m5w9UR"
   },
   "source": [
    "# Save the File Out\n",
    "\n",
    "* Start by removing the file (in case you are running again)\n",
    "* Save the file\n",
    "  * Save returns a reference to the output file\n",
    "  * Closing the output file\n",
    "* Note that NAME is not passed through. Name is now a special attribute...\n",
    "  * Does camx work without NAME?"
   ]
  },
  {
   "cell_type": "code",
   "execution_count": null,
   "metadata": {
    "colab": {},
    "colab_type": "code",
    "id": "FS-4zir_x9ck"
   },
   "outputs": [],
   "source": [
    "outpath = 'emis_from_csv.nc'"
   ]
  },
  {
   "cell_type": "code",
   "execution_count": null,
   "metadata": {
    "colab": {},
    "colab_type": "code",
    "id": "zvmNXcx6mua2"
   },
   "outputs": [],
   "source": [
    "!rm -f {outpath}"
   ]
  },
  {
   "cell_type": "code",
   "execution_count": 15,
   "metadata": {
    "colab": {
     "base_uri": "https://localhost:8080/",
     "height": 51
    },
    "colab_type": "code",
    "id": "pH6v9ybgo2Jf",
    "outputId": "dcbd4f06-88f9-4475-eae2-cfdf072a750b"
   },
   "outputs": [
    {
     "name": "stderr",
     "output_type": "stream",
     "text": [
      "/usr/local/lib/python3.6/dist-packages/PseudoNetCDF/pncgen.py:91: UserWarning: Could not add NAME to file; <class 'AttributeError'>: NetCDF: String match to name in use\n",
      "  warn(\"Could not add %s to file; %s: %s\" % (k, type(e), e))\n"
     ]
    }
   ],
   "source": [
    "outf = emisncf.save(outpath, verbose=0, format='NETCDF3_64BIT_OFFSET')\n",
    "outf.close()"
   ]
  },
  {
   "cell_type": "markdown",
   "metadata": {
    "colab_type": "text",
    "id": "TcvH62QBxJ_4"
   },
   "source": [
    "# Visualize Results\n",
    "\n",
    "* Open the written out file\n",
    "* Plot cumulative sums in three hours increments\n",
    "* The plot the sum of all hours"
   ]
  },
  {
   "cell_type": "code",
   "execution_count": null,
   "metadata": {
    "colab": {},
    "colab_type": "code",
    "id": "PXtUJDKyUV4S"
   },
   "outputs": [],
   "source": [
    "emisncf2 = pnc.pncopen(outpath, format='ioapi', mode='rs')"
   ]
  },
  {
   "cell_type": "code",
   "execution_count": 17,
   "metadata": {
    "colab": {
     "base_uri": "https://localhost:8080/",
     "height": 360
    },
    "colab_type": "code",
    "id": "46mGsFWxGNm0",
    "outputId": "408fb092-2bb2-4723-a12a-55fdd8b04a85"
   },
   "outputs": [
    {
     "name": "stderr",
     "output_type": "stream",
     "text": [
      "**PNC:/usr/local/lib/python3.6/dist-packages/PseudoNetCDF/pncwarn.py:24:UserWarning:\n",
      "  IOAPI_ISPH is assumed to be 6370000.; consistent with WRF\n",
      "**PNC:/usr/local/lib/python3.6/dist-packages/PseudoNetCDF/pncwarn.py:24:UserWarning:\n",
      "  IOAPI_ISPH is assumed to be 6370000.; consistent with WRF\n",
      "**PNC:/usr/local/lib/python3.6/dist-packages/PseudoNetCDF/pncwarn.py:24:UserWarning:\n",
      "  IOAPI_ISPH is assumed to be 6370000.; consistent with WRF\n"
     ]
    },
    {
     "data": {
      "image/png": "[encoded data removed]",
      "text/plain": [
       "<Figure size 432x288 with 2 Axes>"
      ]
     },
     "metadata": {
      "needs_background": "light",
      "tags": []
     },
     "output_type": "display_data"
    }
   ],
   "source": [
    "for i in range(1, nt + 3, 3):\n",
    "  ax = emisncf2.sliceDimensions(TSTEP=slice(0, i)).plot(\n",
    "      'NO', dimreduction='sum',\n",
    "      plot_kw=dict(vmin=0, vmax=1),\n",
    "  )\n",
    "  display(ax.figure)\n",
    "  time.sleep(0.5)\n",
    "  clear_output(wait=True)\n",
    "  ax.figure.clf()\n",
    "\n",
    "ax = emisncf2.plot(\n",
    "    'NO',\n",
    "    plot_kw=dict(vmin=0, vmax=1),\n",
    "    dimreduction='sum'\n",
    ")"
   ]
  },
  {
   "cell_type": "markdown",
   "metadata": {
    "colab_type": "text",
    "id": "VaoWdDu-oNKO"
   },
   "source": [
    "# Now Download Output\n",
    "\n",
    "* You can browse on the left and right-click and download\n",
    "* Or you can run the code cell below"
   ]
  },
  {
   "cell_type": "code",
   "execution_count": null,
   "metadata": {
    "colab": {},
    "colab_type": "code",
    "id": "LPOnKG4AoPqs"
   },
   "outputs": [],
   "source": [
    "files.download(outpath)"
   ]
  },
  {
   "cell_type": "code",
   "execution_count": null,
   "metadata": {
    "colab": {},
    "colab_type": "code",
    "id": "w-OW1eIU05ZH"
   },
   "outputs": [],
   "source": []
  }
 ],
 "metadata": {
  "colab": {
   "authorship_tag": "ABX9TyOezZllLuDmKRPjjQcJ8aME",
   "include_colab_link": true,
   "name": "CSV2CAMxEMIS.ipynb",
   "provenance": []
  },
  "kernelspec": {
   "display_name": "Python 3",
   "language": "python",
   "name": "python3"
  },
  "language_info": {
   "codemirror_mode": {
    "name": "ipython",
    "version": 3
   },
   "file_extension": ".py",
   "mimetype": "text/x-python",
   "name": "python",
   "nbconvert_exporter": "python",
   "pygments_lexer": "ipython3",
   "version": "3.8.1"
  }
 },
 "nbformat": 4,
 "nbformat_minor": 4
}
