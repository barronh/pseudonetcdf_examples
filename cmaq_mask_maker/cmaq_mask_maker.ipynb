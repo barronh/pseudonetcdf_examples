{
  "nbformat": 4,
  "nbformat_minor": 0,
  "metadata": {
    "kernelspec": {
      "display_name": "Python 3",
      "language": "python",
      "name": "python3"
    },
    "language_info": {
      "codemirror_mode": {
        "name": "ipython",
        "version": 3
      },
      "file_extension": ".py",
      "mimetype": "text/x-python",
      "name": "python",
      "nbconvert_exporter": "python",
      "pygments_lexer": "ipython3",
      "version": "3.6.8"
    },
    "colab": {
      "name": "cmaq_mask_maker.ipynb",
      "provenance": [],
      "collapsed_sections": [],
      "toc_visible": true,
      "include_colab_link": true
    }
  },
  "cells": [
    {
      "cell_type": "markdown",
      "metadata": {
        "id": "view-in-github",
        "colab_type": "text"
      },
      "source": [
        "<a href=\"https://colab.research.google.com/github/barronh/pseudonetcdf_examples/blob/main/cmaq_mask_maker/cmaq_mask_maker.ipynb\" target=\"_parent\"><img src=\"https://colab.research.google.com/assets/colab-badge.svg\" alt=\"Open In Colab\"/></a>"
      ]
    },
    {
      "cell_type": "markdown",
      "metadata": {
        "id": "MaZIfPQZKhaa"
      },
      "source": [
        "# Make a Mask\n",
        "\n",
        "    author: Barron H. Henderson\n",
        "    date: 2020-10-02\n",
        "\n",
        "This notebook creates a time-independent file \"mask\" file. The values are \n",
        "fractional and represent how much of the grid cell is contained within an\n",
        "analysis area. These are useful for CMAQ DESID. \n",
        "\n",
        "As an illustration, this notebook creates one file for Alabama and another file\n",
        "using a custom definition around the \"Four Corners\" region.\n",
        "\n",
        "Overview:\n",
        "1. Import Libraries\n",
        "2. Make a mask from a shapefile\n",
        "3. Make a mask using custom modification"
      ]
    },
    {
      "cell_type": "markdown",
      "metadata": {
        "id": "z5Uiuf-uKhaq"
      },
      "source": [
        "# Import Libraries\n",
        "\n",
        "* `pyproj` used for geographic to projected coordinate transformations\n",
        "* `PseudoNetCDF` used for easy access\n",
        "* `numpy` used for numeric computation\n",
        "* `shapefile` (i.e., pyshp) used to read shapefiles\n",
        "* `shapely` used perform spatial operations\n",
        "* `pycno` used to add overlays to maps\n",
        "\n",
        "The commands below will add these libraries on Colab. If you are on a system that already has them, you can skip this step or set `colab = False`. If you are on a system that does not have them and you are not an administrator, you can add `--user` to each of these commands to install in your user space."
      ]
    },
    {
      "cell_type": "code",
      "metadata": {
        "colab": {
          "base_uri": "https://localhost:8080/"
        },
        "id": "COZZBeRMKhat",
        "outputId": "44c43e95-7a28-4bba-884f-c5faa407ad29"
      },
      "source": [
        "colab = True\r\n",
        "if colab:\r\n",
        "  !pip install pyproj==2\r\n",
        "  !pip install pseudonetcdf\r\n",
        "  !pip install pyshp\r\n",
        "  !pip install pycno"
      ],
      "execution_count": 1,
      "outputs": [
        {
          "output_type": "stream",
          "text": [
            "Collecting pyproj==2\n",
            "\u001b[?25l  Downloading https://files.pythonhosted.org/packages/52/4e/5d6f269971c41f9f2f126bd09c9a290c566d5783f0724251aaaa05c46a57/pyproj-2.0.0-cp36-cp36m-manylinux1_x86_64.whl (20.6MB)\n",
            "\u001b[K     |████████████████████████████████| 20.6MB 1.2MB/s \n",
            "\u001b[?25hInstalling collected packages: pyproj\n",
            "Successfully installed pyproj-2.0.0\n",
            "Collecting pseudonetcdf\n",
            "\u001b[?25l  Downloading https://files.pythonhosted.org/packages/a1/06/d27b6f4f4832025f93e2829bb6125687f9aa35dd2348f93bc6988d9df48e/PseudoNetCDF-3.1.0.tar.gz (288kB)\n",
            "\u001b[K     |████████████████████████████████| 296kB 9.1MB/s \n",
            "\u001b[?25hRequirement already satisfied: numpy>=1.2 in /usr/local/lib/python3.6/dist-packages (from pseudonetcdf) (1.19.5)\n",
            "Collecting netCDF4\n",
            "\u001b[?25l  Downloading https://files.pythonhosted.org/packages/1a/71/a321abeee439caf94850b4f68ecef68d2ad584a5a9566816c051654cff94/netCDF4-1.5.5.1-cp36-cp36m-manylinux2014_x86_64.whl (4.7MB)\n",
            "\u001b[K     |████████████████████████████████| 4.7MB 15.2MB/s \n",
            "\u001b[?25hRequirement already satisfied: scipy in /usr/local/lib/python3.6/dist-packages (from pseudonetcdf) (1.4.1)\n",
            "Requirement already satisfied: matplotlib in /usr/local/lib/python3.6/dist-packages (from pseudonetcdf) (3.2.2)\n",
            "Requirement already satisfied: pyyaml in /usr/local/lib/python3.6/dist-packages (from pseudonetcdf) (3.13)\n",
            "Collecting cftime\n",
            "\u001b[?25l  Downloading https://files.pythonhosted.org/packages/66/60/bad8525d2c046eb2964911bc412a85ba240b31c7b43f0c19377233992c6c/cftime-1.3.0-cp36-cp36m-manylinux1_x86_64.whl (295kB)\n",
            "\u001b[K     |████████████████████████████████| 296kB 43.8MB/s \n",
            "\u001b[?25hRequirement already satisfied: python-dateutil>=2.1 in /usr/local/lib/python3.6/dist-packages (from matplotlib->pseudonetcdf) (2.8.1)\n",
            "Requirement already satisfied: cycler>=0.10 in /usr/local/lib/python3.6/dist-packages (from matplotlib->pseudonetcdf) (0.10.0)\n",
            "Requirement already satisfied: pyparsing!=2.0.4,!=2.1.2,!=2.1.6,>=2.0.1 in /usr/local/lib/python3.6/dist-packages (from matplotlib->pseudonetcdf) (2.4.7)\n",
            "Requirement already satisfied: kiwisolver>=1.0.1 in /usr/local/lib/python3.6/dist-packages (from matplotlib->pseudonetcdf) (1.3.1)\n",
            "Requirement already satisfied: six>=1.5 in /usr/local/lib/python3.6/dist-packages (from python-dateutil>=2.1->matplotlib->pseudonetcdf) (1.15.0)\n",
            "Building wheels for collected packages: pseudonetcdf\n",
            "  Building wheel for pseudonetcdf (setup.py) ... \u001b[?25l\u001b[?25hdone\n",
            "  Created wheel for pseudonetcdf: filename=PseudoNetCDF-3.1.0-cp36-none-any.whl size=381602 sha256=2f9a2bec733e11cbeb857627f5a13c8495ed24c45a0fc18a94eab964568ab78e\n",
            "  Stored in directory: /root/.cache/pip/wheels/67/60/39/396c6c766c12819eeaf87167b9721c4336dd40a32cdb73a6d6\n",
            "Successfully built pseudonetcdf\n",
            "Installing collected packages: cftime, netCDF4, pseudonetcdf\n",
            "Successfully installed cftime-1.3.0 netCDF4-1.5.5.1 pseudonetcdf-3.1.0\n",
            "Collecting pyshp\n",
            "\u001b[?25l  Downloading https://files.pythonhosted.org/packages/ca/1f/e9cc2c3fce32e2926581f8b6905831165235464c858ba550b6e9b8ef78c3/pyshp-2.1.2.tar.gz (217kB)\n",
            "\u001b[K     |████████████████████████████████| 225kB 7.1MB/s \n",
            "\u001b[?25hBuilding wheels for collected packages: pyshp\n",
            "  Building wheel for pyshp (setup.py) ... \u001b[?25l\u001b[?25hdone\n",
            "  Created wheel for pyshp: filename=pyshp-2.1.2-cp36-none-any.whl size=36217 sha256=d852a80b6da3490361db517d66cd063fa066e52cb52c926c99ba05dc686419f3\n",
            "  Stored in directory: /root/.cache/pip/wheels/96/6c/53/4112475adf3b831da97f083163d0f38ee6daac9c1b13f7afea\n",
            "Successfully built pyshp\n",
            "Installing collected packages: pyshp\n",
            "Successfully installed pyshp-2.1.2\n",
            "Collecting pycno\n",
            "  Downloading https://files.pythonhosted.org/packages/11/cf/df938c3c94a7cf96a7d2614e4183893c4fd55f0549254fab69affb186c0a/pycno-0.1.1-py3-none-any.whl\n",
            "Requirement already satisfied: numpy in /usr/local/lib/python3.6/dist-packages (from pycno) (1.19.5)\n",
            "Requirement already satisfied: matplotlib in /usr/local/lib/python3.6/dist-packages (from pycno) (3.2.2)\n",
            "Requirement already satisfied: python-dateutil>=2.1 in /usr/local/lib/python3.6/dist-packages (from matplotlib->pycno) (2.8.1)\n",
            "Requirement already satisfied: cycler>=0.10 in /usr/local/lib/python3.6/dist-packages (from matplotlib->pycno) (0.10.0)\n",
            "Requirement already satisfied: kiwisolver>=1.0.1 in /usr/local/lib/python3.6/dist-packages (from matplotlib->pycno) (1.3.1)\n",
            "Requirement already satisfied: pyparsing!=2.0.4,!=2.1.2,!=2.1.6,>=2.0.1 in /usr/local/lib/python3.6/dist-packages (from matplotlib->pycno) (2.4.7)\n",
            "Requirement already satisfied: six>=1.5 in /usr/local/lib/python3.6/dist-packages (from python-dateutil>=2.1->matplotlib->pycno) (1.15.0)\n",
            "Installing collected packages: pycno\n",
            "Successfully installed pycno-0.1.1\n"
          ],
          "name": "stdout"
        }
      ]
    },
    {
      "cell_type": "code",
      "metadata": {
        "id": "WPpnfqgCKhav"
      },
      "source": [
        "import PseudoNetCDF as pnc\n",
        "import pycno\n",
        "import numpy as np\n",
        "import os\n",
        "import matplotlib.pyplot as plt\n",
        "import shapefile as shp\n",
        "from shapely.geometry import Polygon, Point\n",
        "from shapely.prepared import prep\n",
        "from shapely.ops import cascaded_union\n",
        "from google.colab import files\n",
        "\n",
        "os.environ['IOAPI_ISPH'] = '6370000.'"
      ],
      "execution_count": 2,
      "outputs": []
    },
    {
      "cell_type": "markdown",
      "metadata": {
        "id": "yoqqeIcIKhaw"
      },
      "source": [
        "# Make a mask from a shapefile\n",
        "\n",
        "* Read in a shapefile\n",
        "* Filter the shapes\n",
        "* Find all cells in the filtered shapes\n",
        "* Save out an IOAPI file"
      ]
    },
    {
      "cell_type": "markdown",
      "metadata": {
        "id": "k3t4uyvsKhaw"
      },
      "source": [
        "# Using GADM Shapefile\n",
        "\n",
        "* Global ADMinistrative project provides shapefiles of administrative boundaries (https://gadm.org/)\n",
        "* We use the global file, but you could also use a region specific file\n",
        "* The file should be at the path specified below."
      ]
    },
    {
      "cell_type": "code",
      "metadata": {
        "colab": {
          "base_uri": "https://localhost:8080/"
        },
        "id": "nuIrEFv2LB_X",
        "outputId": "159fe870-9c36-4e19-b2e2-435d77ced7d3"
      },
      "source": [
        "!wget --continue https://biogeo.ucdavis.edu/data/gadm3.6/gadm36_shp.zip"
      ],
      "execution_count": 3,
      "outputs": [
        {
          "output_type": "stream",
          "text": [
            "--2021-01-12 16:16:51--  https://biogeo.ucdavis.edu/data/gadm3.6/gadm36_shp.zip\n",
            "Resolving biogeo.ucdavis.edu (biogeo.ucdavis.edu)... 128.120.228.172\n",
            "Connecting to biogeo.ucdavis.edu (biogeo.ucdavis.edu)|128.120.228.172|:443... connected.\n",
            "HTTP request sent, awaiting response... 302 Found\n",
            "Location: https://data.biogeo.ucdavis.edu/data/gadm3.6/gadm36_shp.zip [following]\n",
            "--2021-01-12 16:16:52--  https://data.biogeo.ucdavis.edu/data/gadm3.6/gadm36_shp.zip\n",
            "Resolving data.biogeo.ucdavis.edu (data.biogeo.ucdavis.edu)... 128.120.228.172\n",
            "Connecting to data.biogeo.ucdavis.edu (data.biogeo.ucdavis.edu)|128.120.228.172|:443... connected.\n",
            "HTTP request sent, awaiting response... 200 OK\n",
            "Length: 562883070 (537M) [application/zip]\n",
            "Saving to: ‘gadm36_shp.zip’\n",
            "\n",
            "gadm36_shp.zip      100%[===================>] 536.81M  38.2MB/s    in 15s     \n",
            "\n",
            "2021-01-12 16:17:07 (37.0 MB/s) - ‘gadm36_shp.zip’ saved [562883070/562883070]\n",
            "\n"
          ],
          "name": "stdout"
        }
      ]
    },
    {
      "cell_type": "code",
      "metadata": {
        "colab": {
          "base_uri": "https://localhost:8080/"
        },
        "id": "Eu0r01fsLJXe",
        "outputId": "5a0cbdc6-04f2-44ee-fb46-ca2f687f34c3"
      },
      "source": [
        "!unzip gadm36_shp.zip"
      ],
      "execution_count": 4,
      "outputs": [
        {
          "output_type": "stream",
          "text": [
            "Archive:  gadm36_shp.zip\n",
            " extracting: gadm36.cpg              \n",
            "  inflating: gadm36.dbf              \n",
            "  inflating: gadm36.prj              \n",
            "  inflating: gadm36.shp              \n",
            "  inflating: gadm36.shx              \n"
          ],
          "name": "stdout"
        }
      ]
    },
    {
      "cell_type": "code",
      "metadata": {
        "id": "cxb78cUqKhax"
      },
      "source": [
        "gadmpath = 'gadm36'"
      ],
      "execution_count": 5,
      "outputs": []
    },
    {
      "cell_type": "markdown",
      "metadata": {
        "id": "4a2ltt_QKhax"
      },
      "source": [
        "## Open and Understand the Shapefile\n",
        "\n",
        "* Use `shapefile.Reader` to open the file\n",
        "  * if you get an error, try adding the encoding='latin1' option\n",
        "* Get a list of field names\n",
        "* Print IDs and example values"
      ]
    },
    {
      "cell_type": "code",
      "metadata": {
        "id": "GkDZbV2EKhay"
      },
      "source": [
        "shpf = shp.Reader(gadmpath)"
      ],
      "execution_count": 6,
      "outputs": []
    },
    {
      "cell_type": "code",
      "metadata": {
        "id": "t4n16i7jKhaz"
      },
      "source": [
        "fldnames = [n for n, t, l, d in shpf.fields][1:]"
      ],
      "execution_count": 7,
      "outputs": []
    },
    {
      "cell_type": "code",
      "metadata": {
        "colab": {
          "base_uri": "https://localhost:8080/"
        },
        "id": "-l0nVVM-Khaz",
        "outputId": "8ee93f68-48f8-4e5d-e617-b7763f696c97"
      },
      "source": [
        "example_rec = shpf.record(0)\n",
        "for i, name in enumerate(fldnames[:10]):\n",
        "    print(i, name, example_rec[i])"
      ],
      "execution_count": 8,
      "outputs": [
        {
          "output_type": "stream",
          "text": [
            "0 UID 183022\n",
            "1 GID_0 AFG\n",
            "2 ID_0 1\n",
            "3 NAME_0 Afghanistan\n",
            "4 GID_1 AFG.1_1\n",
            "5 ID_1 1\n",
            "6 NAME_1 Badakhshan\n",
            "7 VARNAME_1 Badahšan\n",
            "8 NL_NAME_1 \n",
            "9 HASC_1 AF.BD\n"
          ],
          "name": "stdout"
        }
      ]
    },
    {
      "cell_type": "markdown",
      "metadata": {
        "id": "HIN_6PMaKha1"
      },
      "source": [
        "## Filter Records\n",
        "\n",
        "* We use the United States Alabama record HASC_1 value to find all polygons in Alabama\n",
        "* Multiple polygons represent islands etc."
      ]
    },
    {
      "cell_type": "code",
      "metadata": {
        "id": "VJ_11nDNKha2"
      },
      "source": [
        "recordnums = [ri for ri, rec in enumerate(shpf.iterRecords()) if rec[9] == 'US.AL']"
      ],
      "execution_count": 9,
      "outputs": []
    },
    {
      "cell_type": "markdown",
      "metadata": {
        "id": "wBT_-JxQKha2"
      },
      "source": [
        "## For each record\n",
        "\n",
        "* Get the Shapefile shapes\n",
        "* Transform them into polygons\n",
        "* Polygons will be used over and over, so also create `prepared` polygons that have fast `contains` method\n",
        "* Create an uber polygon that encompasses all the little polygons"
      ]
    },
    {
      "cell_type": "code",
      "metadata": {
        "id": "pz_P93UeKha2"
      },
      "source": [
        "shapes = [shpf.shape(rn) for rn in recordnums]"
      ],
      "execution_count": 10,
      "outputs": []
    },
    {
      "cell_type": "code",
      "metadata": {
        "id": "2VIOck73Kha3"
      },
      "source": [
        "polygons = [Polygon(s.points).buffer(0) for s in shapes]\n",
        "ppolygons = [prep(p) for p in polygons]"
      ],
      "execution_count": 11,
      "outputs": []
    },
    {
      "cell_type": "code",
      "metadata": {
        "id": "ekv3vZXDKha3"
      },
      "source": [
        "uberpoly = cascaded_union(polygons)\n",
        "puberpoly = prep(uberpoly)"
      ],
      "execution_count": 12,
      "outputs": []
    },
    {
      "cell_type": "markdown",
      "metadata": {
        "id": "goMhh5TPKha4"
      },
      "source": [
        "## Get cell centroids\n",
        "\n",
        "* Open a file with LAT/LON"
      ]
    },
    {
      "cell_type": "code",
      "metadata": {
        "id": "tA6R_46VLhcZ"
      },
      "source": [
        "with open('GRIDDESC', 'w') as gf:\r\n",
        "  gf.write(\"\"\"' '\r\n",
        "'LamCon_40N_97W'\r\n",
        " 2 33.000 45.000 -97.000 -97.000 40.000\r\n",
        "'POLSTE_HEMI'\r\n",
        " 6         1.000        45.000       -98.000       -98.000        90.000\r\n",
        "'LATLON'\r\n",
        "1  0.0 0.0 0.0 0.0 0.0\r\n",
        "' '\r\n",
        "'global_1'\r\n",
        "'LATLON'  -180.0 -90.0 1.0 1.0  360  180 1\r\n",
        "'global_0pt1'\r\n",
        "'LATLON'  -180.0 -90.0 0.1 0.1  3600  1800 1\r\n",
        "'108NHEMI2'\r\n",
        "'POLSTE_HEMI' -10098000.000 -10098000.000    108000.000    108000.000 187 187   1\r\n",
        "'12US1'\r\n",
        "'LamCon_40N_97W' -2556000.0 -1728000.0 12000.0 12000.0 459 299 1\r\n",
        "'12US2'\r\n",
        "'LamCon_40N_97W'     -2412000.0 -1620000.0 12000.0 12000.0 396 246 1\r\n",
        "'36US3'\r\n",
        "'LamCon_40N_97W'  -2952000.000  -2772000.000     36000.000     36000.000 172  148   1\r\n",
        "' '\r\n",
        "\"\"\")"
      ],
      "execution_count": 13,
      "outputs": []
    },
    {
      "cell_type": "code",
      "metadata": {
        "id": "SDKhggnGKha4"
      },
      "source": [
        "gf = pnc.pncopen('GRIDDESC', format='griddesc', GDNAM='12US2')"
      ],
      "execution_count": 14,
      "outputs": []
    },
    {
      "cell_type": "code",
      "metadata": {
        "id": "gd1Nbz6tKha4"
      },
      "source": [
        "Ipl1, Jpl1 = np.meshgrid(np.arange(gf.NCOLS + 1), np.arange(gf.NROWS + 1))\n",
        "LONp1, LATp1 = gf.ij2ll(Ipl1, Jpl1)\n",
        "Xp1, Yp1 = gf.ll2xy(LONp1, LATp1)\n",
        "LOND, LATD = gf.xy2ll(Xp1 - gf.XCELL / 2, Yp1 - gf.YCELL / 2)\n",
        "LON = LONp1[:-1, :-1]\n",
        "LAT = LATp1[:-1, :-1]"
      ],
      "execution_count": 15,
      "outputs": []
    },
    {
      "cell_type": "markdown",
      "metadata": {
        "id": "zUdvue0PKha5"
      },
      "source": [
        "## Create an Outfile\n",
        "\n",
        "* Using eval to make an empty variable\n",
        "* Then iterating through centroids\n",
        "  * If within uber polygon, check each polygon\n",
        "  * If within any polygon, set the value to 1 and quit checking"
      ]
    },
    {
      "cell_type": "code",
      "metadata": {
        "id": "bjMKY3RDKha5"
      },
      "source": [
        "gf.SDATE = 2019001\n",
        "outf = gf.eval(\"MINE = DUMMY[:] * 0\")\n",
        "MINE = outf.variables['MINE']\n",
        "MINE.units = 'fraction'\n",
        "MINE.long_name = 'MINE'\n",
        "MINE.var_desc = '0 means not mine, 1 means all mine, inbetween is partial'"
      ],
      "execution_count": 16,
      "outputs": []
    },
    {
      "cell_type": "code",
      "metadata": {
        "colab": {
          "base_uri": "https://localhost:8080/"
        },
        "id": "dTjHKblHKha6",
        "outputId": "37686c6e-e675-4532-879b-4685c141cf53"
      },
      "source": [
        "%%time\n",
        "fractional = True\n",
        "for j, i in np.ndindex(gf.NROWS, gf.NCOLS):\n",
        "    if fractional:\n",
        "        gpoly = Polygon([\n",
        "            [LOND[j + 0, i + 0], LATD[j + 0, i + 0]],\n",
        "            [LOND[j + 0, i + 1], LATD[j + 0, i + 1]],\n",
        "            [LOND[j + 1, i + 1], LATD[j + 1, i + 1]],\n",
        "            [LOND[j + 1, i + 0], LATD[j + 1, i + 0]],\n",
        "            [LOND[j + 0, i + 0], LATD[j + 0, i + 0]],\n",
        "        ])\n",
        "        if puberpoly.intersects(gpoly):\n",
        "            intx = gpoly.intersection(uberpoly)\n",
        "            farea = intx.area / gpoly.area\n",
        "            MINE[0, 0, j, i] = farea\n",
        "    else:\n",
        "        gp = Point(LON[j, i], LAT[j, i])\n",
        "        if puberpoly.contains(gp):\n",
        "            if uberpoly.contains(gp):\n",
        "                MINE[0, 0, j, i] = 1\n"
      ],
      "execution_count": 17,
      "outputs": [
        {
          "output_type": "stream",
          "text": [
            "CPU times: user 5.02 s, sys: 1.89 ms, total: 5.02 s\n",
            "Wall time: 5.04 s\n"
          ],
          "name": "stdout"
        }
      ]
    },
    {
      "cell_type": "markdown",
      "metadata": {
        "id": "NxFbawhJKha_"
      },
      "source": [
        "## Plot to Confirm\n",
        "\n",
        "* Use plot to make a map"
      ]
    },
    {
      "cell_type": "code",
      "metadata": {
        "colab": {
          "base_uri": "https://localhost:8080/",
          "height": 303
        },
        "id": "pNB5Kw9WKha_",
        "outputId": "1d07c0a9-a36a-4270-942c-8c41f707950b"
      },
      "source": [
        "plt.pcolormesh(outf.variables['MINE'][0, 0])\r\n",
        "plt.colorbar(label='fraction')\r\n",
        "cno = pycno.cno(proj=outf.getproj(withgrid=True), data='.')\r\n",
        "cno.draw('MWDB_Coasts_USA_3.cnob');"
      ],
      "execution_count": 18,
      "outputs": [
        {
          "output_type": "stream",
          "text": [
            "/usr/local/lib/python3.6/dist-packages/pycno/__init__.py:258: UserWarning: Downloading: https://www.giss.nasa.gov/tools/panoply/overlays/MWDB_Coasts_USA_3.cnob to MWDB_Coasts_USA_3.cnob\n",
            "  warnings.warn('Downloading: ' + url + ' to ' + str(datapatho))\n"
          ],
          "name": "stderr"
        },
        {
          "output_type": "display_data",
          "data": {
            "image/png": "[encoded data removed]",
            "text/plain": [
              "<Figure size 432x288 with 2 Axes>"
            ]
          },
          "metadata": {
            "tags": [],
            "needs_background": "light"
          }
        }
      ]
    },
    {
      "cell_type": "markdown",
      "metadata": {
        "id": "exJpGtHEKhbA"
      },
      "source": [
        "## Save Mask File"
      ]
    },
    {
      "cell_type": "code",
      "metadata": {
        "id": "rOlu_vsGKhbA"
      },
      "source": [
        "outf.variables['TFLAG'][:] = 0\n",
        "outf.SDATE = -635\n",
        "savedf = outf.save('MINE1.nc', verbose=0, complevel=1);\n",
        "savedf.close()"
      ],
      "execution_count": 19,
      "outputs": []
    },
    {
      "cell_type": "markdown",
      "metadata": {
        "id": "K1JUtp3cTehj"
      },
      "source": [
        "## Optionally Download"
      ]
    },
    {
      "cell_type": "code",
      "metadata": {
        "colab": {
          "base_uri": "https://localhost:8080/",
          "height": 17
        },
        "id": "i0DEpLoLTcuR",
        "outputId": "4c3361fa-d037-4f2f-97d0-018cf2189a2d"
      },
      "source": [
        "files.download('MINE1.nc')"
      ],
      "execution_count": 20,
      "outputs": [
        {
          "output_type": "display_data",
          "data": {
            "application/javascript": [
              "\n",
              "    async function download(id, filename, size) {\n",
              "      if (!google.colab.kernel.accessAllowed) {\n",
              "        return;\n",
              "      }\n",
              "      const div = document.createElement('div');\n",
              "      const label = document.createElement('label');\n",
              "      label.textContent = `Downloading \"${filename}\": `;\n",
              "      div.appendChild(label);\n",
              "      const progress = document.createElement('progress');\n",
              "      progress.max = size;\n",
              "      div.appendChild(progress);\n",
              "      document.body.appendChild(div);\n",
              "\n",
              "      const buffers = [];\n",
              "      let downloaded = 0;\n",
              "\n",
              "      const channel = await google.colab.kernel.comms.open(id);\n",
              "      // Send a message to notify the kernel that we're ready.\n",
              "      channel.send({})\n",
              "\n",
              "      for await (const message of channel.messages) {\n",
              "        // Send a message to notify the kernel that we're ready.\n",
              "        channel.send({})\n",
              "        if (message.buffers) {\n",
              "          for (const buffer of message.buffers) {\n",
              "            buffers.push(buffer);\n",
              "            downloaded += buffer.byteLength;\n",
              "            progress.value = downloaded;\n",
              "          }\n",
              "        }\n",
              "      }\n",
              "      const blob = new Blob(buffers, {type: 'application/binary'});\n",
              "      const a = document.createElement('a');\n",
              "      a.href = window.URL.createObjectURL(blob);\n",
              "      a.download = filename;\n",
              "      div.appendChild(a);\n",
              "      a.click();\n",
              "      div.remove();\n",
              "    }\n",
              "  "
            ],
            "text/plain": [
              "<IPython.core.display.Javascript object>"
            ]
          },
          "metadata": {
            "tags": []
          }
        },
        {
          "output_type": "display_data",
          "data": {
            "application/javascript": [
              "download(\"download_20d8a2a8-76d8-4425-b62e-ec5ba3102d9f\", \"MINE1.nc\", 28587)"
            ],
            "text/plain": [
              "<IPython.core.display.Javascript object>"
            ]
          },
          "metadata": {
            "tags": []
          }
        }
      ]
    },
    {
      "cell_type": "markdown",
      "metadata": {
        "id": "QTDs7QZjKhbB"
      },
      "source": [
        "# Make a mask using custom modification\n",
        "\n",
        "* Make a smiley face as a simplistic example.\n",
        "* Start by making a circle programatically\n",
        "* Then save to text file\n",
        "* Then modify with a text editor\n",
        "* Then read in the text file.\n",
        "* Then save the IOAPI file"
      ]
    },
    {
      "cell_type": "markdown",
      "metadata": {
        "id": "9T3jntvSKhbB"
      },
      "source": [
        "## Make a Circle\n",
        "\n",
        "* Open an IOAPI file with LON/LAT\n",
        "* Create an output file with a degree-based radius circle\n",
        "* Save the circle to a file\n",
        "* Edit the file and save as another name\n",
        "* Read in the new file\n",
        "* Plot to confirm\n",
        "* Save out"
      ]
    },
    {
      "cell_type": "code",
      "metadata": {
        "id": "ZOg6Ft7MKhbB"
      },
      "source": [
        "latv = gf.copyVariable(gf.variables['DUMMY'], 'LAT', withdata=False)\r\n",
        "lonv = gf.copyVariable(gf.variables['DUMMY'], 'LON', withdata=False)\r\n",
        "latv[:] = LAT[:]\r\n",
        "lonv[:] = LON[:]"
      ],
      "execution_count": 21,
      "outputs": []
    },
    {
      "cell_type": "code",
      "metadata": {
        "id": "Ztj43YmKKhbC"
      },
      "source": [
        "# Using the four corners monument location\n",
        "outf = gf.eval('MINE = (((LAT[:] - 36.998972)**2 + (LON[:] - -109.045167)**2)**.5 < 1).astype(\"f\")')\n",
        "MINE = outf.variables['MINE']\n",
        "MINE.units = 'fraction'\n",
        "MINE.long_name = 'MINE'\n",
        "MINE.var_desc = '0 means not mine, 1 means all mine, inbetween is partial'"
      ],
      "execution_count": 22,
      "outputs": []
    },
    {
      "cell_type": "code",
      "metadata": {
        "id": "gInCJA9YKhbC"
      },
      "source": [
        "np.savetxt('map.txt', outf.variables['MINE'][0, 0, ::-1], fmt='%d', delimiter=' ', newline='\\n')"
      ],
      "execution_count": 23,
      "outputs": []
    },
    {
      "cell_type": "markdown",
      "metadata": {
        "id": "33gip6oBKhbD"
      },
      "source": [
        "## Make Manual Edits\n",
        "\n",
        "* Open map.txt in a text editor without wrapping.\n",
        "* Search for a 1. You should see the circle\n",
        "* Edit the circle by turning on and off 1s\n",
        "* Then save"
      ]
    },
    {
      "cell_type": "code",
      "metadata": {
        "id": "pGuC7rcFKhbD"
      },
      "source": [
        "outf.variables['MINE'][:] = np.loadtxt('map.txt', delimiter=\" \", dtype='i')[::-1]"
      ],
      "execution_count": 28,
      "outputs": []
    },
    {
      "cell_type": "markdown",
      "metadata": {
        "id": "wjKDh5CGT6IK"
      },
      "source": [
        "## Plot to Confirm\r\n",
        "\r\n",
        "* If you didn't edit, it should be a circle.\r\n",
        "* Used the text editor to give it eyes, a nose, a mouth, and hair."
      ]
    },
    {
      "cell_type": "code",
      "metadata": {
        "colab": {
          "base_uri": "https://localhost:8080/",
          "height": 269
        },
        "id": "g0rH51e8KhbD",
        "outputId": "3ad3c4d2-0220-4f2e-9b1e-59bb8241f457"
      },
      "source": [
        "plt.pcolormesh(outf.variables['MINE'][0, 0])\r\n",
        "plt.colorbar(label='fraction')\r\n",
        "cno = pycno.cno(proj=outf.getproj(withgrid=True), data='.')\r\n",
        "cno.draw('MWDB_Coasts_USA_3.cnob');"
      ],
      "execution_count": 29,
      "outputs": [
        {
          "output_type": "display_data",
          "data": {
            "image/png": "[encoded data removed]",
            "text/plain": [
              "<Figure size 432x288 with 2 Axes>"
            ]
          },
          "metadata": {
            "tags": [],
            "needs_background": "light"
          }
        }
      ]
    },
    {
      "cell_type": "code",
      "metadata": {
        "id": "8cQdOc97KhbE"
      },
      "source": [
        "outf.variables['TFLAG'][:] = 0\n",
        "outf.SDATE = -635\n",
        "savedf = outf.save('MINE2.nc', verbose=0, complevel=1);\n",
        "savedf.close()"
      ],
      "execution_count": 30,
      "outputs": []
    },
    {
      "cell_type": "markdown",
      "metadata": {
        "id": "1EbOnIc6TxfK"
      },
      "source": [
        "## Optionally, download"
      ]
    },
    {
      "cell_type": "code",
      "metadata": {
        "colab": {
          "base_uri": "https://localhost:8080/",
          "height": 17
        },
        "id": "Oxu_I34VTPEs",
        "outputId": "116d12ef-09ad-4531-c682-6f1b6e032eac"
      },
      "source": [
        "files.download('MINE2.nc')"
      ],
      "execution_count": 31,
      "outputs": [
        {
          "output_type": "display_data",
          "data": {
            "application/javascript": [
              "\n",
              "    async function download(id, filename, size) {\n",
              "      if (!google.colab.kernel.accessAllowed) {\n",
              "        return;\n",
              "      }\n",
              "      const div = document.createElement('div');\n",
              "      const label = document.createElement('label');\n",
              "      label.textContent = `Downloading \"${filename}\": `;\n",
              "      div.appendChild(label);\n",
              "      const progress = document.createElement('progress');\n",
              "      progress.max = size;\n",
              "      div.appendChild(progress);\n",
              "      document.body.appendChild(div);\n",
              "\n",
              "      const buffers = [];\n",
              "      let downloaded = 0;\n",
              "\n",
              "      const channel = await google.colab.kernel.comms.open(id);\n",
              "      // Send a message to notify the kernel that we're ready.\n",
              "      channel.send({})\n",
              "\n",
              "      for await (const message of channel.messages) {\n",
              "        // Send a message to notify the kernel that we're ready.\n",
              "        channel.send({})\n",
              "        if (message.buffers) {\n",
              "          for (const buffer of message.buffers) {\n",
              "            buffers.push(buffer);\n",
              "            downloaded += buffer.byteLength;\n",
              "            progress.value = downloaded;\n",
              "          }\n",
              "        }\n",
              "      }\n",
              "      const blob = new Blob(buffers, {type: 'application/binary'});\n",
              "      const a = document.createElement('a');\n",
              "      a.href = window.URL.createObjectURL(blob);\n",
              "      a.download = filename;\n",
              "      div.appendChild(a);\n",
              "      a.click();\n",
              "      div.remove();\n",
              "    }\n",
              "  "
            ],
            "text/plain": [
              "<IPython.core.display.Javascript object>"
            ]
          },
          "metadata": {
            "tags": []
          }
        },
        {
          "output_type": "display_data",
          "data": {
            "application/javascript": [
              "download(\"download_58196811-0c3d-4d3a-8b74-22b2c56b910e\", \"MINE2.nc\", 26929)"
            ],
            "text/plain": [
              "<IPython.core.display.Javascript object>"
            ]
          },
          "metadata": {
            "tags": []
          }
        }
      ]
    },
    {
      "cell_type": "code",
      "metadata": {
        "id": "fxGnuU-oTuP_"
      },
      "source": [
        ""
      ],
      "execution_count": 27,
      "outputs": []
    }
  ]
}
