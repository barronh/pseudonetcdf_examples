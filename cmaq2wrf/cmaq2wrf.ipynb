{
 "cells": [
  {
   "cell_type": "markdown",
   "metadata": {},
   "source": [
    "# Make CMAQ WRF-Like\n",
    "\n",
    "    author: Barron H. Henderson\n",
    "    date: 2020-07-30\n",
    "    "
   ]
  },
  {
   "cell_type": "markdown",
   "metadata": {},
   "source": [
    "# Overview\n",
    "\n",
    "    Need: Many tools exist for WRFChem that we would like to use with CMAQ.\n",
    "    Question: How make a CMAQ file WRF-Like\n",
    "    Answer: This is pretty easy using PNC.\n"
   ]
  },
  {
   "cell_type": "markdown",
   "metadata": {},
   "source": [
    "# Using PseudoNetCDF\n",
    "\n",
    "* importing library\n",
    "* Used to open, slice, and create new variables"
   ]
  },
  {
   "cell_type": "code",
   "execution_count": 1,
   "metadata": {},
   "outputs": [],
   "source": [
    "import PseudoNetCDF as pnc\n",
    "import numpy as np\n",
    "from collections import OrderedDict"
   ]
  },
  {
   "cell_type": "markdown",
   "metadata": {},
   "source": [
    "# Set input paths\n",
    "\n",
    "Example inputs are available from an ftp site.\n"
   ]
  },
  {
   "cell_type": "code",
   "execution_count": 2,
   "metadata": {},
   "outputs": [],
   "source": [
    "# Set paths to input and output files\n",
    "concpath = 'CCTM_CONC_EXAMPLE.nc'\n",
    "outpath = 'CCTM_CONC_EXAMPLE.WRF.nc'"
   ]
  },
  {
   "cell_type": "code",
   "execution_count": 3,
   "metadata": {},
   "outputs": [],
   "source": [
    "# Open CONC file\n",
    "concf = pnc.pncopen(concpath, format='ioapi')"
   ]
  },
  {
   "cell_type": "code",
   "execution_count": 4,
   "metadata": {},
   "outputs": [],
   "source": [
    "# Get time objects for convenience\n",
    "times = concf.getTimes()"
   ]
  },
  {
   "cell_type": "markdown",
   "metadata": {},
   "source": [
    "# Configure WRF Translations\n",
    "\n",
    "* WRF has a lot of meta-data. Most will just be copied from an example.\n",
    "* Projection information will be updated.\n",
    "* Time data will be updated."
   ]
  },
  {
   "cell_type": "code",
   "execution_count": 5,
   "metadata": {},
   "outputs": [
    {
     "name": "stderr",
     "output_type": "stream",
     "text": [
      "**PNC:/work/ROMO/anaconda_envs/basic38/lib/python3.8/site-packages/PseudoNetCDF/pncwarn.py:24:UserWarning:\n",
      "  Currently not using:straight_vertical_longitude_from_pole -98.0\n"
     ]
    }
   ],
   "source": [
    "map_proj = {6: 2, 2: 1}[concf.GDTYP]\n",
    "map_proj_char = {6: 'Polar Stereographic', 2: 'Lambert Conformal'}[concf.GDTYP]\n",
    "cen_lon, cen_lat = concf.ij2ll(concf.NCOLS / 2, concf.NROWS / 2)\n",
    "moad_cen_lat = {6: concf.P_ALP * 90.0, 2: concf.YCENT}[concf.GDTYP]\n",
    "pole_lat = {6: concf.P_ALP * 90.0}.get(concf.GDTYP, 90)"
   ]
  },
  {
   "cell_type": "code",
   "execution_count": 6,
   "metadata": {},
   "outputs": [],
   "source": [
    "props = OrderedDict([\n",
    "    ('TITLE', ' OUTPUT WRF2CMAQ    '),\n",
    "    ('START_DATE', times[0].strftime('%Y-%m-%d_%H:%M:%S')),\n",
    "    ('SIMULATION_START_DATE', times[0].strftime('%Y-%m-%d_%H:%M:%S')),\n",
    "    ('WEST-EAST_GRID_DIMENSION', concf.NCOLS + 1),\n",
    "    ('SOUTH-NORTH_GRID_DIMENSION', concf.NROWS + 1),\n",
    "    ('BOTTOM-TOP_GRID_DIMENSION', concf.NLAYS + 1),\n",
    "    ('DX', concf.XCELL),\n",
    "    ('DY', concf.YCELL),\n",
    "    ('SKEBS_ON', 0),\n",
    "    ('SPEC_BDY_FINAL_MU', 1),\n",
    "    ('USE_Q_DIABATIC', 0),\n",
    "    ('GRIDTYPE', 'C'),\n",
    "    ('DIFF_OPT', 1),\n",
    "    ('KM_OPT', 4),\n",
    "    ('DAMP_OPT', 3),\n",
    "    ('DAMPCOEF', 0.2),\n",
    "    ('KHDIF', 0.0),\n",
    "    ('KVDIF', 0.0),\n",
    "    ('MP_PHYSICS', 10),\n",
    "    ('RA_LW_PHYSICS', 4),\n",
    "    ('RA_SW_PHYSICS', 4),\n",
    "    ('SF_SFCLAY_PHYSICS', 7),\n",
    "    ('SF_SURFACE_PHYSICS', 7),\n",
    "    ('BL_PBL_PHYSICS', 7),\n",
    "    ('CU_PHYSICS', 1),\n",
    "    ('SF_LAKE_PHYSICS', 0),\n",
    "    ('SURFACE_INPUT_SOURCE', 1),\n",
    "    ('SST_UPDATE', 1),\n",
    "    ('GRID_FDDA', 1),\n",
    "    ('GFDDA_INTERVAL_M', 180),\n",
    "    ('GFDDA_END_H', 9048),\n",
    "    ('GRID_SFDDA', 1),\n",
    "    ('SGFDDA_INTERVAL_M', 180),\n",
    "    ('SGFDDA_END_H', 9048),\n",
    "    ('HYPSOMETRIC_OPT', 2),\n",
    "    ('USE_THETA_M', 0),\n",
    "    ('SF_URBAN_PHYSICS', 0),\n",
    "    ('SHCU_PHYSICS', 0),\n",
    "    ('MFSHCONV', 0),\n",
    "    ('FEEDBACK', 1),\n",
    "    ('SMOOTH_OPTION', 0),\n",
    "    ('SWRAD_SCAT', 1.0),\n",
    "    ('W_DAMPING', 1),\n",
    "    ('DT', 60.0),\n",
    "    ('RADT', 20.0),\n",
    "    ('BLDT', 0.0),\n",
    "    ('CUDT', 0.0),\n",
    "    ('AER_OPT', 0),\n",
    "    ('SWINT_OPT', 0),\n",
    "    ('AER_TYPE', 1),\n",
    "    ('AER_AOD550_OPT', 1),\n",
    "    ('AER_ANGEXP_OPT', 1),\n",
    "    ('AER_SSA_OPT', 1),\n",
    "    ('AER_ASY_OPT', 1),\n",
    "    ('AER_AOD550_VAL', 0.12),\n",
    "    ('AER_ANGEXP_VAL', 1.3),\n",
    "    ('AER_SSA_VAL', 1e-45),\n",
    "    ('AER_ASY_VAL', 1e-45),\n",
    "    ('MOIST_ADV_OPT', 2),\n",
    "    ('SCALAR_ADV_OPT', 2),\n",
    "    ('TKE_ADV_OPT', 2),\n",
    "    ('DIFF_6TH_OPT', 2),\n",
    "    ('DIFF_6TH_FACTOR', 0.12),\n",
    "    ('FGDT', 0.0),\n",
    "    ('GUV', 1e-04),\n",
    "    ('GT', 1e-04),\n",
    "    ('GQ', 1e-05),\n",
    "    ('IF_RAMPING', 0),\n",
    "    ('DTRAMP_MIN', 60.0),\n",
    "    ('GUV_SFC', 0.0),\n",
    "    ('GT_SFC', 0.0),\n",
    "    ('GQ_SFC', 0.0),\n",
    "    ('RINBLW', 250.0),\n",
    "    ('OBS_NUDGE_OPT', 0),\n",
    "    ('BUCKET_MM', -1.0),\n",
    "    ('BUCKET_J', -1.0),\n",
    "    ('PREC_ACC_DT', 60.0),\n",
    "    ('SF_OCEAN_PHYSICS', 0),\n",
    "    ('ISFTCFLX', 0),\n",
    "    ('ISHALLOW', 0),\n",
    "    ('ISFFLX', 1),\n",
    "    ('ICLOUD', 1),\n",
    "    ('ICLOUD_CU', 0),\n",
    "    ('TRACER_PBLMIX', 1),\n",
    "    ('SCALAR_PBLMIX', 0),\n",
    "    ('YSU_TOPDOWN_PBLMIX', 0),\n",
    "    ('GRAV_SETTLING', 0),\n",
    "    ('DFI_OPT', 0),\n",
    "    ('SIMULATION_INITIALIZATION_TYPE', 'REAL-DATA CASE'),\n",
    "    ('WEST-EAST_PATCH_START_UNSTAG', 1),\n",
    "    ('WEST-EAST_PATCH_END_UNSTAG',  concf.NCOLS),\n",
    "    ('WEST-EAST_PATCH_START_STAG', 1),\n",
    "    ('WEST-EAST_PATCH_END_STAG',  concf.NCOLS + 1),\n",
    "    ('SOUTH-NORTH_PATCH_START_UNSTAG', 1),\n",
    "    ('SOUTH-NORTH_PATCH_END_UNSTAG',  concf.NROWS),\n",
    "    ('SOUTH-NORTH_PATCH_START_STAG', 1),\n",
    "    ('SOUTH-NORTH_PATCH_END_STAG',  concf.NROWS + 1),\n",
    "    ('BOTTOM-TOP_PATCH_START_UNSTAG', 1),\n",
    "    ('BOTTOM-TOP_PATCH_END_UNSTAG', concf.NLAYS),\n",
    "    ('BOTTOM-TOP_PATCH_START_STAG', 1),\n",
    "    ('BOTTOM-TOP_PATCH_END_STAG', concf.NLAYS + 1),\n",
    "    ('GRID_ID', 1),\n",
    "    ('PARENT_ID', 0),\n",
    "    ('I_PARENT_START', 0),\n",
    "    ('J_PARENT_START', 0),\n",
    "    ('PARENT_GRID_RATIO', 1),\n",
    "    ('CEN_LAT', cen_lat),\n",
    "    ('CEN_LON', cen_lon),\n",
    "    ('TRUELAT1', concf.P_BET),\n",
    "    ('TRUELAT2', concf.P_ALP),\n",
    "    ('MOAD_CEN_LAT', moad_cen_lat),\n",
    "    ('STAND_LON', concf.P_GAM),\n",
    "    ('POLE_LAT', pole_lat),\n",
    "    ('POLE_LON', 0.0),\n",
    "    ('GMT', 0.0),\n",
    "    ('JULYR', times[0].year),\n",
    "    ('JULDAY', int(times[0].strftime('%j'))),\n",
    "    ('MAP_PROJ', map_proj),\n",
    "    ('MAP_PROJ_CHAR', map_proj_char),\n",
    "    ('MMINLU', 'MODIFIED_IGBP_MODIS_NOAH'),\n",
    "    ('NUM_LAND_CAT', 20),\n",
    "    ('ISWATER', 17),\n",
    "    ('ISLAKE', -1),\n",
    "    ('ISICE', 15),\n",
    "    ('ISURBAN', 13),\n",
    "    ('ISOILWATER', 14),\n",
    "    ('history', '')\n",
    "])"
   ]
  },
  {
   "cell_type": "markdown",
   "metadata": {},
   "source": [
    "# Create a WRF-style output file\n",
    "\n",
    "* Define dimensions\n",
    "* Add properties"
   ]
  },
  {
   "cell_type": "code",
   "execution_count": 7,
   "metadata": {},
   "outputs": [
    {
     "data": {
      "text/plain": [
       "<PseudoNetCDF.core._dimensions.PseudoNetCDFDimension object (name = DateStrLen, len = 19) at0x2b362281afa0>"
      ]
     },
     "execution_count": 7,
     "metadata": {},
     "output_type": "execute_result"
    }
   ],
   "source": [
    "outf = pnc.PseudoNetCDFFile()\n",
    "outf.createDimension('Time', len(concf.dimensions['TSTEP'])).setunlimited(True)\n",
    "outf.createDimension('south_north', concf.NROWS)\n",
    "outf.createDimension('west_east', concf.NCOLS)\n",
    "outf.createDimension('bottom_top', concf.NLAYS)\n",
    "outf.createDimension('soil_layers_stag', 2)\n",
    "outf.createDimension('land_cat_stag', props['NUM_LAND_CAT'])\n",
    "outf.createDimension('south_north_stag', concf.NROWS + 1)\n",
    "outf.createDimension('west_east_stag', concf.NCOLS + 1)\n",
    "outf.createDimension('bottom_top_stag', concf.NLAYS + 1)\n",
    "outf.createDimension('DateStrLen', 19)\n"
   ]
  },
  {
   "cell_type": "code",
   "execution_count": 8,
   "metadata": {},
   "outputs": [],
   "source": [
    "for attrk, attrv in props.items():\n",
    "    setattr(outf, attrk, attrv)"
   ]
  },
  {
   "cell_type": "markdown",
   "metadata": {},
   "source": [
    "# Add Time Variable"
   ]
  },
  {
   "cell_type": "code",
   "execution_count": 9,
   "metadata": {},
   "outputs": [],
   "source": [
    "timev = outf.createVariable('Times', 'c', ('Time', 'DateStrLen'))\n",
    "times_str = np.array([t.strftime('%F_%H:%M:%S') for t in times], 'S19').view('c').reshape(-1, 19)\n",
    "timev[:] = times_str"
   ]
  },
  {
   "cell_type": "markdown",
   "metadata": {},
   "source": [
    "# Add Latitude and Longitude Variables\n",
    "\n",
    "* Use PseudoNetCDF `ij2ll` function to make lon/lat"
   ]
  },
  {
   "cell_type": "code",
   "execution_count": 10,
   "metadata": {},
   "outputs": [],
   "source": [
    "I, J = np.meshgrid(np.arange(concf.NCOLS), np.arange(concf.NROWS))\n",
    "lon, lat = concf.ij2ll(I, J)"
   ]
  },
  {
   "cell_type": "code",
   "execution_count": 11,
   "metadata": {},
   "outputs": [],
   "source": [
    "xlatv = outf.createVariable('XLAT', 'd', ('Time', 'south_north', 'west_east'))\n",
    "xlatv.FieldType = 104\n",
    "xlatv.MemoryOrder = \"XY\"\n",
    "xlatv.description = \"LATITUDE, SOUTH IS NEGATIVE\"\n",
    "xlatv.units = \"degree_north\"\n",
    "xlatv.stagger = \"\"\n",
    "xlatv.coordinates = \"XLONG XLAT\"\n",
    "xlatv[:] = lat"
   ]
  },
  {
   "cell_type": "code",
   "execution_count": 12,
   "metadata": {},
   "outputs": [],
   "source": [
    "xlongv = outf.createVariable('XLONG', 'd', ('Time', 'south_north', 'west_east'))\n",
    "xlongv.FieldType = 104\n",
    "xlongv.MemoryOrder = \"XY\"\n",
    "xlongv.description = \"LONGITUDE, SOUTH IS NEGATIVE\"\n",
    "xlongv.units = \"degree_north\"\n",
    "xlongv.stagger = \"\"\n",
    "xlongv.coordinates = \"XLONG XLONG\"\n",
    "xlongv[:] = lon"
   ]
  },
  {
   "cell_type": "markdown",
   "metadata": {},
   "source": [
    "# Copy Over Variables from CMAQ\n",
    "\n",
    "* Skip TFLAG, whose data is already in Times\n",
    "* Copy with renamed dimensions."
   ]
  },
  {
   "cell_type": "code",
   "execution_count": 13,
   "metadata": {},
   "outputs": [],
   "source": [
    "for vark, invarv in concf.variables.items():\n",
    "    if vark == 'TFLAG':\n",
    "        continue\n",
    "\n",
    "    varv = outf.copyVariable(invarv, key=vark, dimensions=('Time', 'bottom_top', 'south_north', 'west_east'))\n",
    "    varv.FieldType = 104\n",
    "    varv.MemoryOrder = \"XYZ\"\n",
    "    varv.description = getattr(invarv, 'var_desc', '').strip()\n",
    "    varv.units = getattr(invarv, 'units', 'unknown').strip()\n",
    "    varv.stagger = \"\"\n",
    "    varv.coordinates = \"XLONG XLAT XTIME\""
   ]
  },
  {
   "cell_type": "markdown",
   "metadata": {},
   "source": [
    "# Save"
   ]
  },
  {
   "cell_type": "code",
   "execution_count": 14,
   "metadata": {},
   "outputs": [],
   "source": [
    "outf.save(outpath, verbose=0).close()"
   ]
  },
  {
   "cell_type": "code",
   "execution_count": null,
   "metadata": {},
   "outputs": [],
   "source": []
  }
 ],
 "metadata": {
  "kernelspec": {
   "display_name": "Python 3",
   "language": "python",
   "name": "python3"
  },
  "language_info": {
   "codemirror_mode": {
    "name": "ipython",
    "version": 3
   },
   "file_extension": ".py",
   "mimetype": "text/x-python",
   "name": "python",
   "nbconvert_exporter": "python",
   "pygments_lexer": "ipython3",
   "version": "3.8.1"
  }
 },
 "nbformat": 4,
 "nbformat_minor": 4
}
